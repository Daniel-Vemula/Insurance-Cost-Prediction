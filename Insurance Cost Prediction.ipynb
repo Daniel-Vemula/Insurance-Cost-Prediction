{
 "cells": [
  {
   "cell_type": "markdown",
   "id": "f206e586-d1b9-4b1a-bd98-bff49f662436",
   "metadata": {},
   "source": [
    "# Objective: Accurately predict insurance costs for Customers based on their inputs?"
   ]
  },
  {
   "cell_type": "markdown",
   "id": "48965f39-1070-4f02-a94a-6e75f98748aa",
   "metadata": {},
   "source": [
    "# DOMAIN ANALYSIS:\n",
    "\n",
    "**Health Insurance:**\n",
    "\n",
    "        Insurance is required primarily to provide financial protection and security against unforeseen events and risks that otherwise lead to significant financial hardship or ruin.\n",
    "    \n",
    "**Financial Security:**\n",
    "        Protection against losses: Life is unpredictable, and things like accidents, illnesses, natural disasters, theft, or even death can strike at any time. Insurance compensates for losses incurred due to these covered risks, preventing individuals from facing severe financial hardships.\n",
    "        \n",
    "**Maintaining financial stability:** \n",
    "        Without insurance, a major unexpected event could wipe out savings, force the sale of assets, or lead to significant debt, jeopardizing financial stability. Insurance acts as a safety net, allowing people to recover financially.\n",
    "\n",
    "**Risk Management and Sharing:**\n",
    "        Insurance works on the principle of risk sharing. Policyholders pay premiums, and the insurance company pools these funds. When a loss occurs to one policyholder, the insurance company uses the collective fund to compensate them, effectively transferring the financial risk from the individual to the larger group.\n",
    "\n",
    "**Predictability of cost:**\n",
    "        While individual losses are unpredictable, insurance makes the cost of potential losses more predictable through regular, smaller premium payments.\n",
    "\n",
    "**Peace of Mind:**\n",
    "\n",
    "        Knowing you have insurance coverage provides a sense of security and reduces stress about potential future challenges. This peace of mind allows individuals and families to live with fewer worries and focus on their lives.\n",
    "\n",
    "**Tax Benefits:**\n",
    "\n",
    "        In many countries, insurance premiums (especially for life and health insurance) offer tax deductions, which can reduce your taxable income. Additionally, certain payouts from insurance policies may be tax-exempt.\n",
    "\n",
    "    Insurance is not about preventing bad things from happening, but about mitigating their financial impact when they do. It's a fundamental component of a sound financial strategy for individuals, families.\n",
    "\n",
    "    The premium or the charges that have to be incurred by an individual depends on many factors and these factors decide how much amount, an individual has to pay.\n",
    "\n",
    "    Below are the factors that are mentioned in the dataset that decide the charge per customer:\n",
    "\n",
    "        \n",
    "**Dataset Features / Columns:**\n",
    "    \n",
    "    •\tAge: age of primary beneficiary \n",
    "    •\tSex: insurance contractor gender, female, male \n",
    "    •\tBMI: Body mass index, providing an understanding of body, weights that are relatively high or low relative to height,\n",
    "                objective index of body weight (kg / m ^ 2) using the ratio of height to weight, ideally 18.5 to 24.9 \n",
    "    •\tChildren: Number of children covered by health insurance / Number of dependents\n",
    "    •\tSmoker: Smoking\n",
    "    •\tRegion: the beneficiary's residential area in the US, northeast, southeast, southwest, northwest.\n",
    "    •\tCharges: Individual medical costs billed by health insurance\n",
    "    \n",
    "\n",
    "**Body Mass Index (BMI):**\n",
    "    \n",
    "    It is a simple numerical measure used to classify a person's weight relative to their height. It's a widely used screening tool to categorize            individuals into weight status categories like underweight, healthy weight, overweight, and obesity.\n",
    "\n",
    "    What it's Used For:\n",
    "\n",
    "    Screening Tool: It helps identify potential weight problems for adults.\n",
    "\n",
    "    Population Health: It's useful for tracking obesity trends across populations.\n",
    "\n",
    "    Risk Assessment: While not a diagnostic tool, it can indicate an increased risk for certain health problems associated with weight, such as heart        disease, diabetes, and some cancers.\n",
    "\n",
    "    * Underweight: Below 18.5\n",
    "\n",
    "    * Normal (Healthy) weight: 18.5 – 24.9\n",
    "\n",
    "    * Overweight: 25.0 – 29.9"
   ]
  },
  {
   "cell_type": "markdown",
   "id": "8ae3fe67-383f-458a-a886-3bef7d5013af",
   "metadata": {},
   "source": [
    "# Problem Statement:\n",
    "\n",
    "        1) Prepare a complete data analysis report on the given data.\n",
    "        2) Prepare the data, identifying key features, build and train a machine learning model using different alogorithms.\n",
    "        3) Create a machine learning model to predict the insurance price charged to the customer."
   ]
  },
  {
   "cell_type": "code",
   "execution_count": 1,
   "id": "30065d69-6d42-48ce-8c7b-9a447f5eb191",
   "metadata": {},
   "outputs": [],
   "source": [
    "# Import required libraries:\n",
    "import pandas as pd\n",
    "import numpy as np\n",
    "import matplotlib.pyplot as plt\n",
    "import seaborn as sns\n",
    "import warnings\n",
    "warnings.filterwarnings('ignore')"
   ]
  },
  {
   "cell_type": "markdown",
   "id": "330a15cd-6e1d-42c2-8679-7f84c3c2ffad",
   "metadata": {},
   "source": [
    "# Load Data from file(csv):"
   ]
  },
  {
   "cell_type": "code",
   "execution_count": 2,
   "id": "45a9acfb-863a-4e59-aa86-034da9ee3079",
   "metadata": {},
   "outputs": [],
   "source": [
    "#Load data into a dataframe:\n",
    "data = pd.read_csv(r\"datasets_13720_18513_insurance(1).csv\")"
   ]
  },
  {
   "cell_type": "markdown",
   "id": "0e4cdf55-8fd0-48a3-9c69-6ecdce0db162",
   "metadata": {},
   "source": [
    "# Bassic Checks:"
   ]
  },
  {
   "cell_type": "code",
   "execution_count": 3,
   "id": "0d6c975d-92aa-49f8-a8b6-66cad866153e",
   "metadata": {},
   "outputs": [
    {
     "data": {
      "text/html": [
       "<div>\n",
       "<style scoped>\n",
       "    .dataframe tbody tr th:only-of-type {\n",
       "        vertical-align: middle;\n",
       "    }\n",
       "\n",
       "    .dataframe tbody tr th {\n",
       "        vertical-align: top;\n",
       "    }\n",
       "\n",
       "    .dataframe thead th {\n",
       "        text-align: right;\n",
       "    }\n",
       "</style>\n",
       "<table border=\"1\" class=\"dataframe\">\n",
       "  <thead>\n",
       "    <tr style=\"text-align: right;\">\n",
       "      <th></th>\n",
       "      <th>age</th>\n",
       "      <th>sex</th>\n",
       "      <th>bmi</th>\n",
       "      <th>children</th>\n",
       "      <th>smoker</th>\n",
       "      <th>region</th>\n",
       "      <th>charges</th>\n",
       "    </tr>\n",
       "  </thead>\n",
       "  <tbody>\n",
       "    <tr>\n",
       "      <th>0</th>\n",
       "      <td>19</td>\n",
       "      <td>female</td>\n",
       "      <td>27.900</td>\n",
       "      <td>0</td>\n",
       "      <td>yes</td>\n",
       "      <td>southwest</td>\n",
       "      <td>16884.92400</td>\n",
       "    </tr>\n",
       "    <tr>\n",
       "      <th>1</th>\n",
       "      <td>18</td>\n",
       "      <td>male</td>\n",
       "      <td>33.770</td>\n",
       "      <td>1</td>\n",
       "      <td>no</td>\n",
       "      <td>southeast</td>\n",
       "      <td>1725.55230</td>\n",
       "    </tr>\n",
       "    <tr>\n",
       "      <th>2</th>\n",
       "      <td>28</td>\n",
       "      <td>male</td>\n",
       "      <td>33.000</td>\n",
       "      <td>3</td>\n",
       "      <td>no</td>\n",
       "      <td>southeast</td>\n",
       "      <td>4449.46200</td>\n",
       "    </tr>\n",
       "    <tr>\n",
       "      <th>3</th>\n",
       "      <td>33</td>\n",
       "      <td>male</td>\n",
       "      <td>22.705</td>\n",
       "      <td>0</td>\n",
       "      <td>no</td>\n",
       "      <td>northwest</td>\n",
       "      <td>21984.47061</td>\n",
       "    </tr>\n",
       "    <tr>\n",
       "      <th>4</th>\n",
       "      <td>32</td>\n",
       "      <td>male</td>\n",
       "      <td>28.880</td>\n",
       "      <td>0</td>\n",
       "      <td>no</td>\n",
       "      <td>northwest</td>\n",
       "      <td>3866.85520</td>\n",
       "    </tr>\n",
       "  </tbody>\n",
       "</table>\n",
       "</div>"
      ],
      "text/plain": [
       "   age     sex     bmi  children smoker     region      charges\n",
       "0   19  female  27.900         0    yes  southwest  16884.92400\n",
       "1   18    male  33.770         1     no  southeast   1725.55230\n",
       "2   28    male  33.000         3     no  southeast   4449.46200\n",
       "3   33    male  22.705         0     no  northwest  21984.47061\n",
       "4   32    male  28.880         0     no  northwest   3866.85520"
      ]
     },
     "execution_count": 3,
     "metadata": {},
     "output_type": "execute_result"
    }
   ],
   "source": [
    "# Display of first five rows:\n",
    "data.head()"
   ]
  },
  {
   "cell_type": "code",
   "execution_count": 4,
   "id": "a01ba2f2-7341-4f51-b14f-5a6e989ac3a5",
   "metadata": {},
   "outputs": [
    {
     "data": {
      "text/html": [
       "<div>\n",
       "<style scoped>\n",
       "    .dataframe tbody tr th:only-of-type {\n",
       "        vertical-align: middle;\n",
       "    }\n",
       "\n",
       "    .dataframe tbody tr th {\n",
       "        vertical-align: top;\n",
       "    }\n",
       "\n",
       "    .dataframe thead th {\n",
       "        text-align: right;\n",
       "    }\n",
       "</style>\n",
       "<table border=\"1\" class=\"dataframe\">\n",
       "  <thead>\n",
       "    <tr style=\"text-align: right;\">\n",
       "      <th></th>\n",
       "      <th>age</th>\n",
       "      <th>sex</th>\n",
       "      <th>bmi</th>\n",
       "      <th>children</th>\n",
       "      <th>smoker</th>\n",
       "      <th>region</th>\n",
       "      <th>charges</th>\n",
       "    </tr>\n",
       "  </thead>\n",
       "  <tbody>\n",
       "    <tr>\n",
       "      <th>1333</th>\n",
       "      <td>50</td>\n",
       "      <td>male</td>\n",
       "      <td>30.97</td>\n",
       "      <td>3</td>\n",
       "      <td>no</td>\n",
       "      <td>northwest</td>\n",
       "      <td>10600.5483</td>\n",
       "    </tr>\n",
       "    <tr>\n",
       "      <th>1334</th>\n",
       "      <td>18</td>\n",
       "      <td>female</td>\n",
       "      <td>31.92</td>\n",
       "      <td>0</td>\n",
       "      <td>no</td>\n",
       "      <td>northeast</td>\n",
       "      <td>2205.9808</td>\n",
       "    </tr>\n",
       "    <tr>\n",
       "      <th>1335</th>\n",
       "      <td>18</td>\n",
       "      <td>female</td>\n",
       "      <td>36.85</td>\n",
       "      <td>0</td>\n",
       "      <td>no</td>\n",
       "      <td>southeast</td>\n",
       "      <td>1629.8335</td>\n",
       "    </tr>\n",
       "    <tr>\n",
       "      <th>1336</th>\n",
       "      <td>21</td>\n",
       "      <td>female</td>\n",
       "      <td>25.80</td>\n",
       "      <td>0</td>\n",
       "      <td>no</td>\n",
       "      <td>southwest</td>\n",
       "      <td>2007.9450</td>\n",
       "    </tr>\n",
       "    <tr>\n",
       "      <th>1337</th>\n",
       "      <td>61</td>\n",
       "      <td>female</td>\n",
       "      <td>29.07</td>\n",
       "      <td>0</td>\n",
       "      <td>yes</td>\n",
       "      <td>northwest</td>\n",
       "      <td>29141.3603</td>\n",
       "    </tr>\n",
       "  </tbody>\n",
       "</table>\n",
       "</div>"
      ],
      "text/plain": [
       "      age     sex    bmi  children smoker     region     charges\n",
       "1333   50    male  30.97         3     no  northwest  10600.5483\n",
       "1334   18  female  31.92         0     no  northeast   2205.9808\n",
       "1335   18  female  36.85         0     no  southeast   1629.8335\n",
       "1336   21  female  25.80         0     no  southwest   2007.9450\n",
       "1337   61  female  29.07         0    yes  northwest  29141.3603"
      ]
     },
     "execution_count": 4,
     "metadata": {},
     "output_type": "execute_result"
    }
   ],
   "source": [
    "# Display of last five rows:\n",
    "data.tail()"
   ]
  },
  {
   "cell_type": "code",
   "execution_count": 5,
   "id": "421b7e8c-b36a-4f69-984b-23cd29791f49",
   "metadata": {},
   "outputs": [
    {
     "data": {
      "text/plain": [
       "(1338, 7)"
      ]
     },
     "execution_count": 5,
     "metadata": {},
     "output_type": "execute_result"
    }
   ],
   "source": [
    "# Check the total no of Rows and Columns:\n",
    "data.shape"
   ]
  },
  {
   "cell_type": "code",
   "execution_count": 6,
   "id": "bc5614be-b462-4a7c-92fc-9df1437593bd",
   "metadata": {},
   "outputs": [
    {
     "data": {
      "text/plain": [
       "Index(['age', 'sex', 'bmi', 'children', 'smoker', 'region', 'charges'], dtype='object')"
      ]
     },
     "execution_count": 6,
     "metadata": {},
     "output_type": "execute_result"
    }
   ],
   "source": [
    "# Display column Headings:\n",
    "data.columns"
   ]
  },
  {
   "cell_type": "code",
   "execution_count": 6,
   "id": "8508254f-3a33-4967-b532-882e3da102ff",
   "metadata": {},
   "outputs": [
    {
     "data": {
      "text/plain": [
       "Index(['Age', 'Sex', 'BMI', 'Children', 'Smoker', 'Region', 'Charges'], dtype='object')"
      ]
     },
     "execution_count": 6,
     "metadata": {},
     "output_type": "execute_result"
    }
   ],
   "source": [
    "# Convert all column headings to title case except bmi column to Upper case (BMI):\n",
    "data.columns = [col.upper() if col.lower() == 'bmi' else col.title() for col in data.columns]\n",
    "data.columns"
   ]
  },
  {
   "cell_type": "code",
   "execution_count": 7,
   "id": "f53dfa76-c323-4d87-ba2f-434649180512",
   "metadata": {},
   "outputs": [
    {
     "name": "stdout",
     "output_type": "stream",
     "text": [
      "<class 'pandas.core.frame.DataFrame'>\n",
      "RangeIndex: 1338 entries, 0 to 1337\n",
      "Data columns (total 7 columns):\n",
      " #   Column    Non-Null Count  Dtype  \n",
      "---  ------    --------------  -----  \n",
      " 0   Age       1338 non-null   int64  \n",
      " 1   Sex       1338 non-null   object \n",
      " 2   BMI       1338 non-null   float64\n",
      " 3   Children  1338 non-null   int64  \n",
      " 4   Smoker    1338 non-null   object \n",
      " 5   Region    1338 non-null   object \n",
      " 6   Charges   1338 non-null   float64\n",
      "dtypes: float64(2), int64(2), object(3)\n",
      "memory usage: 73.3+ KB\n"
     ]
    }
   ],
   "source": [
    "# Check datatypes, Categorical and Numerical Columns:\n",
    "data.info()"
   ]
  },
  {
   "cell_type": "markdown",
   "id": "c546e64a-71a5-4b27-80d6-d43f936c0f11",
   "metadata": {},
   "source": [
    "* All the columns with Object datatype are Categorical Columns.\n",
    "* All the columns with Int64 and float64 datatype are Numerical Columns. (Later we will seggregate Int64 and float64)"
   ]
  },
  {
   "cell_type": "code",
   "execution_count": 8,
   "id": "f9d525bf-6d1c-41b0-90db-8d84551ff783",
   "metadata": {},
   "outputs": [
    {
     "data": {
      "text/plain": [
       "['Sex', 'Smoker', 'Region']"
      ]
     },
     "execution_count": 8,
     "metadata": {},
     "output_type": "execute_result"
    }
   ],
   "source": [
    "# Assign a variable to all categorical columns:\n",
    "cat_cols = data.select_dtypes(include='object')\n",
    "cat_cols.columns.tolist()"
   ]
  },
  {
   "cell_type": "code",
   "execution_count": 9,
   "id": "58a36058-0187-4039-9c1a-ec7426bdb7a1",
   "metadata": {},
   "outputs": [
    {
     "data": {
      "text/plain": [
       "['Age', 'BMI', 'Children', 'Charges']"
      ]
     },
     "execution_count": 9,
     "metadata": {},
     "output_type": "execute_result"
    }
   ],
   "source": [
    "# Assign a variable to all Numerical columns:\n",
    "num_cols=data.select_dtypes(include=['int64','float64'])\n",
    "num_cols.columns.tolist()"
   ]
  },
  {
   "cell_type": "code",
   "execution_count": 11,
   "id": "c24a1837-c9e8-4b00-8221-ba63a0129668",
   "metadata": {},
   "outputs": [
    {
     "data": {
      "text/plain": [
       "Age         0\n",
       "Sex         0\n",
       "BMI         0\n",
       "Children    0\n",
       "Smoker      0\n",
       "Region      0\n",
       "Charges     0\n",
       "dtype: int64"
      ]
     },
     "execution_count": 11,
     "metadata": {},
     "output_type": "execute_result"
    }
   ],
   "source": [
    "# Check for any missing values or Null values:\n",
    "data.isnull().sum()"
   ]
  },
  {
   "cell_type": "code",
   "execution_count": 12,
   "id": "3539a14e-b55c-4e90-8348-6ee704cc6c5a",
   "metadata": {},
   "outputs": [
    {
     "data": {
      "text/html": [
       "<div>\n",
       "<style scoped>\n",
       "    .dataframe tbody tr th:only-of-type {\n",
       "        vertical-align: middle;\n",
       "    }\n",
       "\n",
       "    .dataframe tbody tr th {\n",
       "        vertical-align: top;\n",
       "    }\n",
       "\n",
       "    .dataframe thead th {\n",
       "        text-align: right;\n",
       "    }\n",
       "</style>\n",
       "<table border=\"1\" class=\"dataframe\">\n",
       "  <thead>\n",
       "    <tr style=\"text-align: right;\">\n",
       "      <th></th>\n",
       "      <th>Age</th>\n",
       "      <th>BMI</th>\n",
       "      <th>Children</th>\n",
       "      <th>Charges</th>\n",
       "    </tr>\n",
       "  </thead>\n",
       "  <tbody>\n",
       "    <tr>\n",
       "      <th>count</th>\n",
       "      <td>1338.000000</td>\n",
       "      <td>1338.000000</td>\n",
       "      <td>1338.000000</td>\n",
       "      <td>1338.000000</td>\n",
       "    </tr>\n",
       "    <tr>\n",
       "      <th>mean</th>\n",
       "      <td>39.207025</td>\n",
       "      <td>30.663397</td>\n",
       "      <td>1.094918</td>\n",
       "      <td>13270.422265</td>\n",
       "    </tr>\n",
       "    <tr>\n",
       "      <th>std</th>\n",
       "      <td>14.049960</td>\n",
       "      <td>6.098187</td>\n",
       "      <td>1.205493</td>\n",
       "      <td>12110.011237</td>\n",
       "    </tr>\n",
       "    <tr>\n",
       "      <th>min</th>\n",
       "      <td>18.000000</td>\n",
       "      <td>15.960000</td>\n",
       "      <td>0.000000</td>\n",
       "      <td>1121.873900</td>\n",
       "    </tr>\n",
       "    <tr>\n",
       "      <th>25%</th>\n",
       "      <td>27.000000</td>\n",
       "      <td>26.296250</td>\n",
       "      <td>0.000000</td>\n",
       "      <td>4740.287150</td>\n",
       "    </tr>\n",
       "    <tr>\n",
       "      <th>50%</th>\n",
       "      <td>39.000000</td>\n",
       "      <td>30.400000</td>\n",
       "      <td>1.000000</td>\n",
       "      <td>9382.033000</td>\n",
       "    </tr>\n",
       "    <tr>\n",
       "      <th>75%</th>\n",
       "      <td>51.000000</td>\n",
       "      <td>34.693750</td>\n",
       "      <td>2.000000</td>\n",
       "      <td>16639.912515</td>\n",
       "    </tr>\n",
       "    <tr>\n",
       "      <th>max</th>\n",
       "      <td>64.000000</td>\n",
       "      <td>53.130000</td>\n",
       "      <td>5.000000</td>\n",
       "      <td>63770.428010</td>\n",
       "    </tr>\n",
       "  </tbody>\n",
       "</table>\n",
       "</div>"
      ],
      "text/plain": [
       "               Age          BMI     Children       Charges\n",
       "count  1338.000000  1338.000000  1338.000000   1338.000000\n",
       "mean     39.207025    30.663397     1.094918  13270.422265\n",
       "std      14.049960     6.098187     1.205493  12110.011237\n",
       "min      18.000000    15.960000     0.000000   1121.873900\n",
       "25%      27.000000    26.296250     0.000000   4740.287150\n",
       "50%      39.000000    30.400000     1.000000   9382.033000\n",
       "75%      51.000000    34.693750     2.000000  16639.912515\n",
       "max      64.000000    53.130000     5.000000  63770.428010"
      ]
     },
     "execution_count": 12,
     "metadata": {},
     "output_type": "execute_result"
    }
   ],
   "source": [
    "# Statistical Summary of Numericla Columns:\n",
    "data.describe()"
   ]
  },
  {
   "cell_type": "code",
   "execution_count": 13,
   "id": "c1c235ae-b094-42e3-8b54-d8cdb60b0030",
   "metadata": {},
   "outputs": [
    {
     "data": {
      "text/html": [
       "<div>\n",
       "<style scoped>\n",
       "    .dataframe tbody tr th:only-of-type {\n",
       "        vertical-align: middle;\n",
       "    }\n",
       "\n",
       "    .dataframe tbody tr th {\n",
       "        vertical-align: top;\n",
       "    }\n",
       "\n",
       "    .dataframe thead th {\n",
       "        text-align: right;\n",
       "    }\n",
       "</style>\n",
       "<table border=\"1\" class=\"dataframe\">\n",
       "  <thead>\n",
       "    <tr style=\"text-align: right;\">\n",
       "      <th></th>\n",
       "      <th>Sex</th>\n",
       "      <th>Smoker</th>\n",
       "      <th>Region</th>\n",
       "    </tr>\n",
       "  </thead>\n",
       "  <tbody>\n",
       "    <tr>\n",
       "      <th>count</th>\n",
       "      <td>1338</td>\n",
       "      <td>1338</td>\n",
       "      <td>1338</td>\n",
       "    </tr>\n",
       "    <tr>\n",
       "      <th>unique</th>\n",
       "      <td>2</td>\n",
       "      <td>2</td>\n",
       "      <td>4</td>\n",
       "    </tr>\n",
       "    <tr>\n",
       "      <th>top</th>\n",
       "      <td>male</td>\n",
       "      <td>no</td>\n",
       "      <td>southeast</td>\n",
       "    </tr>\n",
       "    <tr>\n",
       "      <th>freq</th>\n",
       "      <td>676</td>\n",
       "      <td>1064</td>\n",
       "      <td>364</td>\n",
       "    </tr>\n",
       "  </tbody>\n",
       "</table>\n",
       "</div>"
      ],
      "text/plain": [
       "         Sex Smoker     Region\n",
       "count   1338   1338       1338\n",
       "unique     2      2          4\n",
       "top     male     no  southeast\n",
       "freq     676   1064        364"
      ]
     },
     "execution_count": 13,
     "metadata": {},
     "output_type": "execute_result"
    }
   ],
   "source": [
    "# Statistical Summary of Categorical Columns:\n",
    "data.describe(include='O')"
   ]
  },
  {
   "cell_type": "markdown",
   "id": "7f5e2104-c6ab-4d5c-a843-6a78dbad4619",
   "metadata": {},
   "source": [
    "# Exploratory Data Analysis:"
   ]
  },
  {
   "cell_type": "markdown",
   "id": "dd9518bc-b934-4dea-9f26-4af0a56ce892",
   "metadata": {},
   "source": [
    "# UNIVARIATE ANALYSIS:"
   ]
  },
  {
   "cell_type": "markdown",
   "id": "f0a14d09-8b0b-4eeb-a5d9-f849ba2b283c",
   "metadata": {},
   "source": [
    "**(1) Age column Analysis:**"
   ]
  },
  {
   "cell_type": "code",
   "execution_count": 10,
   "id": "8a999b1c-792e-4c12-b41c-317d4b9f5813",
   "metadata": {},
   "outputs": [
    {
     "data": {
      "text/plain": [
       "array([18, 19, 20, 21, 22, 23, 24, 25, 26, 27, 28, 29, 30, 31, 32, 33, 34,\n",
       "       35, 36, 37, 38, 39, 40, 41, 42, 43, 44, 45, 46, 47, 48, 49, 50, 51,\n",
       "       52, 53, 54, 55, 56, 57, 58, 59, 60, 61, 62, 63, 64])"
      ]
     },
     "execution_count": 10,
     "metadata": {},
     "output_type": "execute_result"
    }
   ],
   "source": [
    "# Display of Unique Values of Age in sorted order:\n",
    "np.sort(data.Age.unique())"
   ]
  },
  {
   "cell_type": "code",
   "execution_count": 15,
   "id": "eeb95be2-e3fc-443a-bcb4-75d2161962d3",
   "metadata": {},
   "outputs": [
    {
     "data": {
      "image/png": "[encoded data removed]",
      "text/plain": [
       "<Figure size 600x400 with 1 Axes>"
      ]
     },
     "metadata": {},
     "output_type": "display_data"
    }
   ],
   "source": [
    "# Plotting Age Column:\n",
    "plt.figure(figsize= (6,4))\n",
    "sns.histplot(data=data, x='Age')\n",
    "plt.xlabel('Age', fontsize=10)\n",
    "plt.show()"
   ]
  },
  {
   "cell_type": "code",
   "execution_count": 16,
   "id": "aedb81d8-2afc-471c-ac94-d5eafb1ca043",
   "metadata": {},
   "outputs": [
    {
     "data": {
      "text/plain": [
       "max     64.000000\n",
       "min     18.000000\n",
       "mean    39.207025\n",
       "Name: Age, dtype: float64"
      ]
     },
     "execution_count": 16,
     "metadata": {},
     "output_type": "execute_result"
    }
   ],
   "source": [
    "# Using aggregate():\n",
    "data['Age'].agg(['max', 'min', 'mean'])"
   ]
  },
  {
   "cell_type": "markdown",
   "id": "4b7daefb-c7bd-4eb0-ada1-cd2e81532d9c",
   "metadata": {},
   "source": [
    "**Insights:**\n",
    "    \n",
    "    * Lowest Age is 18 and highest age is 64.\n",
    "    * Average age is 39.\n",
    "    * The age 18-20 range has a significantly higher count compared to all other age groups.\n",
    "    * There's a noticeable dip in the number of people aged between 36 and 39.\n",
    "    * Ages 25–60 are quite evenly represented, with slight fluctuations but no extreme peaks or troughs (except that 36–39 dip).\n",
    "    * Fewer entries for individuals over age 60."
   ]
  },
  {
   "cell_type": "markdown",
   "id": "1c70e361-5e54-4239-90e3-3a64e3efca62",
   "metadata": {},
   "source": [
    "**(2)Sex Column Analysis:**"
   ]
  },
  {
   "cell_type": "code",
   "execution_count": 17,
   "id": "941fb05c-5bce-45fe-9bee-9e61add01dd1",
   "metadata": {},
   "outputs": [
    {
     "data": {
      "text/plain": [
       "array(['female', 'male'], dtype=object)"
      ]
     },
     "execution_count": 17,
     "metadata": {},
     "output_type": "execute_result"
    }
   ],
   "source": [
    "data.Sex.unique()"
   ]
  },
  {
   "cell_type": "code",
   "execution_count": 18,
   "id": "5681c9c1-702e-4a8b-84e6-9e0d00d43731",
   "metadata": {},
   "outputs": [
    {
     "data": {
      "text/plain": [
       "Sex\n",
       "male      676\n",
       "female    662\n",
       "Name: count, dtype: int64"
      ]
     },
     "execution_count": 18,
     "metadata": {},
     "output_type": "execute_result"
    }
   ],
   "source": [
    "data.Sex.value_counts()"
   ]
  },
  {
   "cell_type": "code",
   "execution_count": 19,
   "id": "bb500735-b324-4deb-acef-a5fca602885e",
   "metadata": {},
   "outputs": [
    {
     "data": {
      "image/png": "[encoded data removed]",
      "text/plain": [
       "<Figure size 200x300 with 1 Axes>"
      ]
     },
     "metadata": {},
     "output_type": "display_data"
    }
   ],
   "source": [
    "# Plotting Sex column:\n",
    "plt.figure(figsize=(2,3))\n",
    "sns.histplot(data=data, x='Sex')\n",
    "plt.xlabel('sex',fontsize=10)\n",
    "plt.show()"
   ]
  },
  {
   "cell_type": "markdown",
   "id": "271b1b0e-413d-4cb3-93ab-c6f03ccc0996",
   "metadata": {},
   "source": [
    "Insights:\n",
    "\n",
    "    * There are two classes in sex column, Male and Female.\n",
    "    * There are almost equal no. of records for both classes (Male=676, Female=662)."
   ]
  },
  {
   "cell_type": "markdown",
   "id": "4f0f8536-4b63-4d1b-b828-1e70556144dd",
   "metadata": {},
   "source": [
    "**(3) BMI column Analysis:**"
   ]
  },
  {
   "cell_type": "code",
   "execution_count": 12,
   "id": "ee4174f6-6439-4bb8-97ef-ad29bd249023",
   "metadata": {},
   "outputs": [
    {
     "data": {
      "text/plain": [
       "BMI\n",
       "32.300    13\n",
       "28.310     9\n",
       "31.350     8\n",
       "28.880     8\n",
       "30.875     8\n",
       "          ..\n",
       "21.500     1\n",
       "39.710     1\n",
       "32.870     1\n",
       "44.700     1\n",
       "30.970     1\n",
       "Name: count, Length: 548, dtype: int64"
      ]
     },
     "execution_count": 12,
     "metadata": {},
     "output_type": "execute_result"
    }
   ],
   "source": [
    "data.BMI.value_counts()"
   ]
  },
  {
   "cell_type": "code",
   "execution_count": 21,
   "id": "97f41eb4-b0a9-4d54-a308-dc5f922c65e4",
   "metadata": {},
   "outputs": [
    {
     "data": {
      "text/plain": [
       "max     53.130000\n",
       "min     15.960000\n",
       "mean    30.663397\n",
       "Name: BMI, dtype: float64"
      ]
     },
     "execution_count": 21,
     "metadata": {},
     "output_type": "execute_result"
    }
   ],
   "source": [
    "# Using aggregate():\n",
    "data['BMI'].agg(['max', 'min', 'mean'])"
   ]
  },
  {
   "cell_type": "code",
   "execution_count": 22,
   "id": "230e70f8-0773-49bc-97f3-1272ed2693b3",
   "metadata": {},
   "outputs": [
    {
     "data": {
      "image/png": "[encoded data removed]",
      "text/plain": [
       "<Figure size 600x300 with 1 Axes>"
      ]
     },
     "metadata": {},
     "output_type": "display_data"
    }
   ],
   "source": [
    "# Plotting BMI column:\n",
    "plt.figure(figsize=(6,3))\n",
    "sns.histplot(x='BMI', data=data)\n",
    "plt.xlabel('BMI', fontsize=10)\n",
    "plt.show()"
   ]
  },
  {
   "cell_type": "markdown",
   "id": "7a7cda3a-e988-4262-9148-c670b8ae82bc",
   "metadata": {},
   "source": [
    "Insights:\n",
    "\n",
    "   * Most BMIs cluster around 25–35, with the peak at 30.\n",
    "   * This suggests a population tending toward overweight/obese.\n",
    "   * Right Skew Suggests or tail toward higher BMI values implies a portion of the population may have significantly elevated health risks.          (e.g., diabetes, cardiovascular issues).\n",
    "   * This is relevant for insurance charge predictions and smoking-related health correlations."
   ]
  },
  {
   "cell_type": "markdown",
   "id": "943942e0-b96b-4084-b931-d00c7bc13b47",
   "metadata": {},
   "source": [
    "**(4) Children column Analysis:**"
   ]
  },
  {
   "cell_type": "code",
   "execution_count": 23,
   "id": "b01b92df-35ab-42de-86d2-ae519b21d686",
   "metadata": {},
   "outputs": [
    {
     "data": {
      "text/plain": [
       "array([0, 1, 3, 2, 5, 4])"
      ]
     },
     "execution_count": 23,
     "metadata": {},
     "output_type": "execute_result"
    }
   ],
   "source": [
    " data.Children.unique()"
   ]
  },
  {
   "cell_type": "code",
   "execution_count": 24,
   "id": "0e999e08-c042-4fc8-a87a-0d81d6328750",
   "metadata": {},
   "outputs": [
    {
     "data": {
      "text/plain": [
       "Children\n",
       "0    574\n",
       "1    324\n",
       "2    240\n",
       "3    157\n",
       "4     25\n",
       "5     18\n",
       "Name: count, dtype: int64"
      ]
     },
     "execution_count": 24,
     "metadata": {},
     "output_type": "execute_result"
    }
   ],
   "source": [
    "data.Children.value_counts()"
   ]
  },
  {
   "cell_type": "code",
   "execution_count": 25,
   "id": "5d919719-4bfa-4a60-8bdd-bf6ccb6e420c",
   "metadata": {},
   "outputs": [
    {
     "data": {
      "image/png": "[encoded data removed]",
      "text/plain": [
       "<Figure size 400x300 with 1 Axes>"
      ]
     },
     "metadata": {},
     "output_type": "display_data"
    }
   ],
   "source": [
    "#Plotting Children column:\n",
    "plt.figure(figsize=(4,3))\n",
    "sns.countplot(data=data, x='Children')\n",
    "plt.xlabel('Children', fontsize=10)\n",
    "plt.show()"
   ]
  },
  {
   "cell_type": "code",
   "execution_count": 26,
   "id": "8f79aea9-8cfb-4a2f-a3e8-c7c91dd2cb82",
   "metadata": {},
   "outputs": [
    {
     "data": {
      "text/plain": [
       "max    5\n",
       "min    0\n",
       "Name: Children, dtype: int64"
      ]
     },
     "execution_count": 26,
     "metadata": {},
     "output_type": "execute_result"
    }
   ],
   "source": [
    "# Using aggregate():\n",
    "data['Children'].agg(['max','min'])"
   ]
  },
  {
   "cell_type": "markdown",
   "id": "1ca56796-2ea7-4811-8655-19e5e6550bcb",
   "metadata": {},
   "source": [
    "Insights:\n",
    "\n",
    "    * 574 Person's are without children which suggests that a significant portion of the insured population are either single, child-free couples, or          younger adults.\n",
    "    * 43 persons are having the highest no of children between 4-5.\n",
    "    * Over 80% of individuals fall within the 0–2 children range.\n",
    "    * The lesser no of children shows a pattern of real-world family planning trends, where larger families are less common. And this inturn helps             insurance companies to design schemes with less no of children."
   ]
  },
  {
   "cell_type": "markdown",
   "id": "327f70b9-9547-45db-be84-eb369f4a8588",
   "metadata": {},
   "source": [
    "**(5) Smoker column Analysis:**"
   ]
  },
  {
   "cell_type": "code",
   "execution_count": 27,
   "id": "0257e32e-7bc5-491c-8d8a-fb569aeb623d",
   "metadata": {},
   "outputs": [
    {
     "data": {
      "text/plain": [
       "array(['yes', 'no'], dtype=object)"
      ]
     },
     "execution_count": 27,
     "metadata": {},
     "output_type": "execute_result"
    }
   ],
   "source": [
    "data.Smoker.unique()"
   ]
  },
  {
   "cell_type": "code",
   "execution_count": 28,
   "id": "75a0d61c-0ecf-4957-9b48-50db668b26bc",
   "metadata": {},
   "outputs": [
    {
     "data": {
      "text/plain": [
       "Smoker\n",
       "no     1064\n",
       "yes     274\n",
       "Name: count, dtype: int64"
      ]
     },
     "execution_count": 28,
     "metadata": {},
     "output_type": "execute_result"
    }
   ],
   "source": [
    "data.Smoker.value_counts()"
   ]
  },
  {
   "cell_type": "code",
   "execution_count": 29,
   "id": "94dc8401-f02c-44a3-9dc7-3f51d1e67d79",
   "metadata": {},
   "outputs": [
    {
     "data": {
      "image/png": "[encoded data removed]",
      "text/plain": [
       "<Figure size 200x300 with 1 Axes>"
      ]
     },
     "metadata": {},
     "output_type": "display_data"
    }
   ],
   "source": [
    "# Plotting Smoker column:\n",
    "plt.figure(figsize=(2,3))\n",
    "sns.histplot(data=data,x='Smoker')\n",
    "plt.xlabel('Smoker', fontsize=10)\n",
    "plt.show()"
   ]
  },
  {
   "cell_type": "markdown",
   "id": "85855754-5512-4980-ac61-5e876725465f",
   "metadata": {},
   "source": [
    "Insights:\n",
    "\n",
    "    * Smoker = 2 classes (Yes, No)\n",
    "    * There are 1064 non-smokers and 274 smokers. Roughly 20% of them are smokers.\n",
    "    * This is an important imbalance and might impact model training and help in predicting outcomes like charges.\n",
    "    * Smokers typically incur higher insurance charges due to increased likelihood of chronic conditions.\n",
    "\n"
   ]
  },
  {
   "cell_type": "markdown",
   "id": "218e6f78-f1d8-41bc-83e1-1935bafdf1f6",
   "metadata": {},
   "source": [
    "**(6) Region column Analysis:**"
   ]
  },
  {
   "cell_type": "code",
   "execution_count": 30,
   "id": "ecf41d2b-2734-4d93-bfca-4c798a87f57c",
   "metadata": {},
   "outputs": [
    {
     "data": {
      "text/plain": [
       "array(['southwest', 'southeast', 'northwest', 'northeast'], dtype=object)"
      ]
     },
     "execution_count": 30,
     "metadata": {},
     "output_type": "execute_result"
    }
   ],
   "source": [
    "data.Region.unique()"
   ]
  },
  {
   "cell_type": "code",
   "execution_count": 31,
   "id": "8fbd345c-10e4-48ed-b622-a4fb02d4fd91",
   "metadata": {},
   "outputs": [
    {
     "data": {
      "text/plain": [
       "Region\n",
       "southeast    364\n",
       "southwest    325\n",
       "northwest    325\n",
       "northeast    324\n",
       "Name: count, dtype: int64"
      ]
     },
     "execution_count": 31,
     "metadata": {},
     "output_type": "execute_result"
    }
   ],
   "source": [
    "data.Region.value_counts()"
   ]
  },
  {
   "cell_type": "code",
   "execution_count": 32,
   "id": "aa217619-57b9-4fa6-9e27-bbe9bf3917ff",
   "metadata": {},
   "outputs": [
    {
     "data": {
      "image/png": "[encoded data removed]",
      "text/plain": [
       "<Figure size 400x300 with 1 Axes>"
      ]
     },
     "metadata": {},
     "output_type": "display_data"
    }
   ],
   "source": [
    "#Plotting Region column:\n",
    "plt.figure(figsize=(4,3))\n",
    "sns.histplot(data=data, x='Region')\n",
    "plt.xlabel('Region', fontsize=10)\n",
    "plt.show()"
   ]
  },
  {
   "cell_type": "markdown",
   "id": "58b3bcc4-643a-449f-9c5a-4c986ccddfa7",
   "metadata": {},
   "source": [
    "Insights:\n",
    "\n",
    "    * Basically, there are four regions (Southeast,Southwest,Northeast,Northwest).\n",
    "    * Data shows a balanced data for all the four regions.\n",
    "    * Southeast region is leading with 364 count.\n",
    "    "
   ]
  },
  {
   "cell_type": "markdown",
   "id": "21f8cd07-52d6-4b19-a470-e6a2a7c50570",
   "metadata": {},
   "source": [
    "**(7) Charges column Analysis:**"
   ]
  },
  {
   "cell_type": "code",
   "execution_count": 33,
   "id": "16d03cec-7f73-4550-8d48-daf449400d82",
   "metadata": {},
   "outputs": [
    {
     "data": {
      "text/plain": [
       "Charges\n",
       "1639.56310     2\n",
       "27808.72510    1\n",
       "1826.84300     1\n",
       "11090.71780    1\n",
       "39611.75770    1\n",
       "              ..\n",
       "46718.16325    1\n",
       "3208.78700     1\n",
       "37829.72420    1\n",
       "21259.37795    1\n",
       "2721.32080     1\n",
       "Name: count, Length: 1337, dtype: int64"
      ]
     },
     "execution_count": 33,
     "metadata": {},
     "output_type": "execute_result"
    }
   ],
   "source": [
    "data.Charges.value_counts()"
   ]
  },
  {
   "cell_type": "code",
   "execution_count": 34,
   "id": "d715ec6d-e5bd-4dbf-a071-c41f88761112",
   "metadata": {},
   "outputs": [
    {
     "data": {
      "text/plain": [
       "max       63770.428010\n",
       "min        1121.873900\n",
       "mean      13270.422265\n",
       "median     9382.033000\n",
       "Name: Charges, dtype: float64"
      ]
     },
     "execution_count": 34,
     "metadata": {},
     "output_type": "execute_result"
    }
   ],
   "source": [
    "data['Charges'].agg(['max','min','mean','median'])"
   ]
  },
  {
   "cell_type": "code",
   "execution_count": 36,
   "id": "c5276ee8-1897-4919-aeb2-256f7b72d747",
   "metadata": {},
   "outputs": [
    {
     "data": {
      "image/png": "[encoded data removed]",
      "text/plain": [
       "<Figure size 600x300 with 1 Axes>"
      ]
     },
     "metadata": {},
     "output_type": "display_data"
    }
   ],
   "source": [
    "# Plotting Charges column:\n",
    "plt.figure(figsize=(6,3))\n",
    "sns.histplot(data=data, x='Charges')\n",
    "plt.xlabel('Charges', fontsize=10)\n",
    "plt.show()"
   ]
  },
  {
   "cell_type": "markdown",
   "id": "900159f7-3ea0-4f0c-b461-05e278319092",
   "metadata": {},
   "source": [
    "Insights:\n",
    "\n",
    "    * Right-Skewed Distribution\n",
    "    * Most people are clustered in the lower range of charges.\n",
    "    * A few individuals have very high charges, creating a long tail on the right (positive skew).\n",
    "    * Some individuals have charges exceeding 50,000, with the maximum being 63,770.\n",
    "    * The median charge of 9,386 and the mean of 13,279 highlights the influence of a few very costly cases or Outliers."
   ]
  },
  {
   "cell_type": "markdown",
   "id": "93955999-7755-4d2c-a21f-3e1a6a7f7ff2",
   "metadata": {},
   "source": [
    "# BIVARIATE ANALYSIS:"
   ]
  },
  {
   "cell_type": "markdown",
   "id": "318c484f-3256-4bc5-9897-3517b5430500",
   "metadata": {},
   "source": [
    "**(1) Smoker Vs Charges:**"
   ]
  },
  {
   "cell_type": "code",
   "execution_count": 35,
   "id": "690579e1-6f2c-4308-9f39-14f92bcc95de",
   "metadata": {},
   "outputs": [
    {
     "data": {
      "image/png": "[encoded data removed]",
      "text/plain": [
       "<Figure size 300x400 with 1 Axes>"
      ]
     },
     "metadata": {},
     "output_type": "display_data"
    }
   ],
   "source": [
    "# Create the barplot:\n",
    "plt.figure(figsize=(3, 4))\n",
    "sns.barplot(x='Smoker', y='Charges', data=data, palette='Set2')\n",
    "\n",
    "# Add titles and labels\n",
    "plt.title('Medical Charges by Smoking Status', fontsize=12)\n",
    "plt.xlabel('Smoker', fontsize=10)\n",
    "plt.ylabel('Charges', fontsize=10)\n",
    "\n",
    "# Show the plot\n",
    "plt.tight_layout()\n",
    "plt.show()"
   ]
  },
  {
   "cell_type": "markdown",
   "id": "107f840a-7bd1-48ae-a297-451ebfa3c004",
   "metadata": {},
   "source": [
    "**Insights:**\n",
    "\n",
    "    * Smokers incur much higher medical charges.\n",
    "    * Strong correlation between smoking and health expenses.\n",
    "    * Lower costs for non-smokers.\n",
    "    * The average medical cost for smokers is around 32,000, while for non-smokers it's around 8,000.\n",
    "    * The average medical charges for smokers are 4 times higher than those for non-smokers."
   ]
  },
  {
   "cell_type": "markdown",
   "id": "62b4ca93-6970-4722-ae7c-dd311eb8e093",
   "metadata": {},
   "source": [
    "**(2) BMI Vs Charges:**"
   ]
  },
  {
   "cell_type": "code",
   "execution_count": 36,
   "id": "fd70c492-0fba-4b6d-a2a7-867f0a98cdb7",
   "metadata": {},
   "outputs": [
    {
     "data": {
      "image/png": "[encoded data removed]",
      "text/plain": [
       "<Figure size 700x400 with 1 Axes>"
      ]
     },
     "metadata": {},
     "output_type": "display_data"
    }
   ],
   "source": [
    "# Scatter Plot:\n",
    "plt.figure(figsize=(7, 4))\n",
    "sns.scatterplot(x='BMI', y='Charges', data=data, hue='Sex')\n",
    "plt.title('BMI vs Medical Charges')\n",
    "plt.xlabel('BMI')\n",
    "plt.ylabel('Charges')\n",
    "plt.show()"
   ]
  },
  {
   "cell_type": "markdown",
   "id": "2386df91-d6e3-42de-b0cb-0fedb11ee81e",
   "metadata": {},
   "source": [
    "**Insights:**\n",
    "\n",
    "    * There's no strong linear relationship between BMI and charges overall.\n",
    "    * A cluster of higher charges appears around BMI 30–40, suggesting that individuals in this BMI range might be incurring more significant medical costs.\n",
    "    * While many individuals with high BMI (35–45) still have low to moderate charges, there are outliers with very high charges in this range.\n",
    "    * A large concentration of data points lies below 15,000, regardless of BMI.\n",
    "    * Both males and females are fairly evenly distributed across BMI and charges."
   ]
  },
  {
   "cell_type": "markdown",
   "id": "2dfebc74-18fa-4f51-9c2c-e6babf9a765d",
   "metadata": {},
   "source": [
    "**(3) Age Vs Charges:**"
   ]
  },
  {
   "cell_type": "code",
   "execution_count": 37,
   "id": "081c4abc-e808-4c27-aadb-74fcb48b4383",
   "metadata": {},
   "outputs": [
    {
     "data": {
      "image/png": "[encoded data removed]",
      "text/plain": [
       "<Figure size 800x600 with 1 Axes>"
      ]
     },
     "metadata": {},
     "output_type": "display_data"
    }
   ],
   "source": [
    "# Create scatter plot:\n",
    "plt.figure(figsize=(8, 6))\n",
    "sns.scatterplot(x='Age', y='Charges', data=data)\n",
    "plt.title('Age vs Medical Charges')\n",
    "plt.xlabel('Age')\n",
    "plt.ylabel('Charges')\n",
    "plt.show()"
   ]
  },
  {
   "cell_type": "markdown",
   "id": "d1fb4d69-6090-4b34-a030-0db8b702523a",
   "metadata": {},
   "source": [
    "**Insights:**\n",
    "\n",
    "    * There’s a clear upward trend in the lower band of the data, as age increases, minimum charges also increase.\n",
    "    * Older individuals (ages 50–65) generally face higher medical expenses, likely due to age-related health issues.\n",
    "    * data appears to be grouped into three horizontal clusters:\n",
    "        -Lower Band (0–10,000): Healthy individuals or those with minimal treatments.\n",
    "        -Middle Band (10,000–30,000): Moderate healthcare users.\n",
    "        -Upper Band (30,000–65,000): Possibly individuals with chronic conditions or major procedures.\n",
    "    * A few younger people (under 30) have very high charges (50,000). These are likely outliers, perhaps due to accidents, chronic illness, or smoking.\n",
    "    * Suggests age isn’t the only factor — others like lifestyle or BMI likely play a role.\n",
    "        "
   ]
  },
  {
   "cell_type": "markdown",
   "id": "99f93bf6-1374-4cff-aeb7-5c695ea20e90",
   "metadata": {},
   "source": [
    "# (4) Region Vs Charges:"
   ]
  },
  {
   "cell_type": "code",
   "execution_count": 38,
   "id": "fbc79680-9371-4dac-82bd-f6f68d05c384",
   "metadata": {},
   "outputs": [
    {
     "data": {
      "image/png": "[encoded data removed]",
      "text/plain": [
       "<Figure size 400x400 with 1 Axes>"
      ]
     },
     "metadata": {},
     "output_type": "display_data"
    }
   ],
   "source": [
    "# Bar plot:\n",
    "plt.figure(figsize=(4, 4))\n",
    "sns.barplot(x='Region', y='Charges', data=data, palette='Set2', ci=None)\n",
    "\n",
    "plt.title('Medical Charges by Region', fontsize=12)\n",
    "plt.xlabel('Region', fontsize=10)\n",
    "plt.ylabel('Charges', fontsize=10)\n",
    "\n",
    "plt.tight_layout()\n",
    "plt.show()"
   ]
  },
  {
   "cell_type": "markdown",
   "id": "b5bcc850-a003-4741-a0b9-68f6094239bb",
   "metadata": {},
   "source": [
    "**Insights:**\n",
    "\n",
    "    * SouthEast: Highest costs — may indicate greater incidence of chronic conditions, higher BMI/smoker ratio, or costlier care facilities.\n",
    "        - A higher rate of smokers or obesity\n",
    "        - More chronic illness or healthcare usage.\n",
    "        - Or less access to preventative care in that region.\n",
    "    * SouthWest & NorthWest: egions have the lowest average charges.\n",
    "        - A healthier population overall.\n",
    "        - Fewer high-risk individuals.\n",
    "        - Or better lifestyle and access to affordable care.\n",
    "    * NorthEast: Region has moderate charges, higher than southwest/northwest but below southeast.\n",
    "        - Could reflect a balanced mix of risk and healthcare behavior.\n",
    "    * Regional Data helps in Insurance pricing models, Resource allocation by region and Targeted health interventions for a specific group of people.\n",
    "   "
   ]
  },
  {
   "cell_type": "markdown",
   "id": "1d91722e-4e28-4a84-8fa0-766368c93da1",
   "metadata": {},
   "source": [
    "# (5) Sex Vs Charges:"
   ]
  },
  {
   "cell_type": "code",
   "execution_count": 39,
   "id": "0a04eebb-5449-42cb-8636-8b185ce63bf4",
   "metadata": {},
   "outputs": [
    {
     "data": {
      "image/png": "[encoded data removed]",
      "text/plain": [
       "<Figure size 300x400 with 1 Axes>"
      ]
     },
     "metadata": {},
     "output_type": "display_data"
    }
   ],
   "source": [
    "# Bar Plot:\n",
    "plt.figure(figsize=(3, 4))\n",
    "sns.barplot(x='Sex', y='Charges', data=data, palette='Set2', ci=None)\n",
    "\n",
    "plt.title('Medical Charges by Sex', fontsize=10)\n",
    "plt.xlabel('Sex', fontsize=10)\n",
    "plt.ylabel('Average Charges', fontsize=10)\n",
    "\n",
    "plt.tight_layout()\n",
    "plt.show()"
   ]
  },
  {
   "cell_type": "markdown",
   "id": "e409d084-2c45-4b64-8e6c-930c1eeb41fb",
   "metadata": {},
   "source": [
    "**Insights:**\n",
    "\n",
    "    * Males Have Higher Average Medical Charges.\n",
    "        - Average charges for Males 14,000 and Females 12,500.\n",
    "    * Possible Reasons for the Difference:\n",
    "        - Greater prevalence of risky behaviors (e.g., smoking, alcohol, sedentary lifestyle)\n",
    "        - Higher BMI or comorbid conditions.\n",
    "        - More chronic disease management or surgical interventions.\n",
    "        - Different utilization of health services.\n",
    "    * Difference can also help in:\n",
    "        - Insurance premium models.\n",
    "        - Gender-based healthcare planning.\n",
    "        - Public health policy focus.\n"
   ]
  },
  {
   "cell_type": "markdown",
   "id": "77c9d4c1-db8e-4788-9605-a07d9d1d7e3d",
   "metadata": {},
   "source": [
    "# (6) Sex Vs Smoker:"
   ]
  },
  {
   "cell_type": "code",
   "execution_count": 40,
   "id": "5b393546-6282-4e21-a252-c917c1aae67d",
   "metadata": {},
   "outputs": [
    {
     "data": {
      "image/png": "[encoded data removed]",
      "text/plain": [
       "<Figure size 400x400 with 1 Axes>"
      ]
     },
     "metadata": {},
     "output_type": "display_data"
    }
   ],
   "source": [
    "# Count plot:\n",
    "plt.figure(figsize=(4, 4))\n",
    "sns.countplot(x='Sex', hue='Smoker', data=data, palette='Set2')\n",
    "\n",
    "# Add titles and labels\n",
    "plt.title('Count of Smokers by Sex', fontsize=12)\n",
    "plt.xlabel('Sex', fontsize=10)\n",
    "plt.ylabel('Count', fontsize=12)\n",
    "\n",
    "plt.legend(title='Smoker', loc='best', bbox_to_anchor=(-0.2, 0.5))\n",
    "# Show the plot\n",
    "plt.tight_layout()\n",
    "plt.show()"
   ]
  },
  {
   "cell_type": "markdown",
   "id": "5dacae9d-d8de-4251-ab15-6cd694f72ca6",
   "metadata": {},
   "source": [
    "**Insights:**\n",
    "\n",
    "    * The count of male smokers (green bar) is higher than female smokers, indicating that smoking is more prevalent among males.\n",
    "    * For both sexes, the \"no\" (non-smoker) bar is significantly taller, showing that most individuals in both groups do not smoke.\n",
    "    * Although both males and females have a majority of non-smokers, the gap between smokers and non-smokers is larger in females—meaning fewer females smoke compared to males.\n",
    "    * This pattern may guide gender-specific health campaigns."
   ]
  },
  {
   "cell_type": "markdown",
   "id": "516e3e6e-4483-4967-813d-a717d583b6f8",
   "metadata": {},
   "source": [
    "# (7) Region Vs Smoker:"
   ]
  },
  {
   "cell_type": "code",
   "execution_count": 41,
   "id": "c6f70c35-d446-4b35-9896-fd0cc6d687af",
   "metadata": {},
   "outputs": [
    {
     "data": {
      "image/png": "[encoded data removed]",
      "text/plain": [
       "<Figure size 600x400 with 1 Axes>"
      ]
     },
     "metadata": {},
     "output_type": "display_data"
    }
   ],
   "source": [
    "# Count plot:\n",
    "plt.figure(figsize=(6, 4))\n",
    "\n",
    "sns.countplot(x='Region', hue='Smoker', data=data, palette='Set2')\n",
    "\n",
    "plt.title('Count of Smokers by Region', fontsize=10)\n",
    "plt.xlabel('Region', fontsize=12)\n",
    "plt.ylabel('Count', fontsize=12)\n",
    "\n",
    "\n",
    "plt.legend(title='Smoker', loc='upper left', bbox_to_anchor=(1.02, 1))\n",
    "\n",
    "plt.tight_layout()\n",
    "plt.show()"
   ]
  },
  {
   "cell_type": "markdown",
   "id": "e6d71125-74de-453b-a413-6eb8c4c0bd3e",
   "metadata": {},
   "source": [
    "**Insights:**\n",
    "\n",
    "    * Non-Smokers Dominate Across All Regions and count is fairly uniform across all regions.\n",
    "    * Southeast has the most Smokers.\n",
    "    * This could be an important region to target for anti-smoking campaigns or health interventions.\n",
    "    * Northwest and Southwest have fewer Smokers."
   ]
  },
  {
   "cell_type": "markdown",
   "id": "fe5b79e4-32ac-49ae-990c-3bf85deaec93",
   "metadata": {},
   "source": [
    "# DATA PREPROCESSING:"
   ]
  },
  {
   "cell_type": "code",
   "execution_count": 42,
   "id": "16c37101-9da1-495b-8ae5-e35780646a40",
   "metadata": {},
   "outputs": [
    {
     "data": {
      "text/plain": [
       "np.int64(1)"
      ]
     },
     "execution_count": 42,
     "metadata": {},
     "output_type": "execute_result"
    }
   ],
   "source": [
    "# Check for any duplicate Rows:\n",
    "data.duplicated().sum()  "
   ]
  },
  {
   "cell_type": "markdown",
   "id": "e1efa626-723a-4142-9071-a3be8efe38c6",
   "metadata": {},
   "source": [
    "* We have one duplicate row.\n",
    "* Trace out the original and duplicate row:"
   ]
  },
  {
   "cell_type": "code",
   "execution_count": 43,
   "id": "20801375-aa63-4518-b7bd-a966a482e1f5",
   "metadata": {},
   "outputs": [
    {
     "data": {
      "text/html": [
       "<div>\n",
       "<style scoped>\n",
       "    .dataframe tbody tr th:only-of-type {\n",
       "        vertical-align: middle;\n",
       "    }\n",
       "\n",
       "    .dataframe tbody tr th {\n",
       "        vertical-align: top;\n",
       "    }\n",
       "\n",
       "    .dataframe thead th {\n",
       "        text-align: right;\n",
       "    }\n",
       "</style>\n",
       "<table border=\"1\" class=\"dataframe\">\n",
       "  <thead>\n",
       "    <tr style=\"text-align: right;\">\n",
       "      <th></th>\n",
       "      <th>Age</th>\n",
       "      <th>Sex</th>\n",
       "      <th>BMI</th>\n",
       "      <th>Children</th>\n",
       "      <th>Smoker</th>\n",
       "      <th>Region</th>\n",
       "      <th>Charges</th>\n",
       "    </tr>\n",
       "  </thead>\n",
       "  <tbody>\n",
       "    <tr>\n",
       "      <th>195</th>\n",
       "      <td>19</td>\n",
       "      <td>male</td>\n",
       "      <td>30.59</td>\n",
       "      <td>0</td>\n",
       "      <td>no</td>\n",
       "      <td>northwest</td>\n",
       "      <td>1639.5631</td>\n",
       "    </tr>\n",
       "    <tr>\n",
       "      <th>581</th>\n",
       "      <td>19</td>\n",
       "      <td>male</td>\n",
       "      <td>30.59</td>\n",
       "      <td>0</td>\n",
       "      <td>no</td>\n",
       "      <td>northwest</td>\n",
       "      <td>1639.5631</td>\n",
       "    </tr>\n",
       "  </tbody>\n",
       "</table>\n",
       "</div>"
      ],
      "text/plain": [
       "     Age   Sex    BMI  Children Smoker     Region    Charges\n",
       "195   19  male  30.59         0     no  northwest  1639.5631\n",
       "581   19  male  30.59         0     no  northwest  1639.5631"
      ]
     },
     "execution_count": 43,
     "metadata": {},
     "output_type": "execute_result"
    }
   ],
   "source": [
    "# Display duplicate rows:\n",
    "duplicate_rows = data[(data.duplicated(keep=False))]\n",
    "duplicate_rows"
   ]
  },
  {
   "cell_type": "code",
   "execution_count": 44,
   "id": "d7dc8c0c-8ccb-4256-86a0-c870ccf65714",
   "metadata": {},
   "outputs": [],
   "source": [
    "# Duplicate Row is being dropped here:\n",
    "data.drop_duplicates(inplace=True)"
   ]
  },
  {
   "cell_type": "code",
   "execution_count": 45,
   "id": "5a6ce15b-76c6-45d8-8ae9-8d4ec79fac68",
   "metadata": {},
   "outputs": [
    {
     "data": {
      "text/plain": [
       "np.int64(0)"
      ]
     },
     "execution_count": 45,
     "metadata": {},
     "output_type": "execute_result"
    }
   ],
   "source": [
    "# Cross check to see duplicate Row still exists:\n",
    "data.duplicated().sum()"
   ]
  },
  {
   "cell_type": "code",
   "execution_count": 46,
   "id": "a397dba5-24a9-465a-887b-85a335b91a6c",
   "metadata": {},
   "outputs": [
    {
     "data": {
      "text/plain": [
       "Charges    0\n",
       "Age        0\n",
       "BMI        0\n",
       "dtype: int64"
      ]
     },
     "execution_count": 46,
     "metadata": {},
     "output_type": "execute_result"
    }
   ],
   "source": [
    "#  We cannot have Zero's in these columns,Check for any Zero's:\n",
    "(data[['Charges','Age','BMI']] == 0).sum()"
   ]
  },
  {
   "cell_type": "code",
   "execution_count": 47,
   "id": "1acb2307-f843-45e0-b7e6-ab9048e72e2a",
   "metadata": {},
   "outputs": [
    {
     "name": "stdout",
     "output_type": "stream",
     "text": [
      "Age: No negative values found.\n",
      "BMI: No negative values found.\n",
      "Charges: No negative values found.\n"
     ]
    }
   ],
   "source": [
    "# We cannot have Negative values in these columns, so check for Negative values:\n",
    "\n",
    "for col in ['Age', 'BMI', 'Charges']:\n",
    "    if (data[col] < 0).any():\n",
    "        print(f'{col}: Negative values found.')\n",
    "        print(data[data[col] < 0])\n",
    "    else:\n",
    "        print(f'{col}: No negative values found.')"
   ]
  },
  {
   "cell_type": "code",
   "execution_count": 48,
   "id": "248597bf-7fb4-4b9e-93d2-cd9b50c3401a",
   "metadata": {},
   "outputs": [
    {
     "data": {
      "image/png": "[encoded data removed]",
      "text/plain": [
       "<Figure size 700x500 with 4 Axes>"
      ]
     },
     "metadata": {},
     "output_type": "display_data"
    }
   ],
   "source": [
    "# Distribution plots for Numerical Columns:\n",
    "fig, axes = plt.subplots(nrows=2, ncols=2, figsize=(7, 5))\n",
    "axes = axes.flatten()  # Flatten to 1D array for easy looping\n",
    "\n",
    "for i, col in enumerate(num_cols):\n",
    "    sns.histplot(data[col], kde=True, bins=10, ax=axes[i])\n",
    "    axes[i].set_title(f'Distribution of {col}')\n",
    "    axes[i].set_xlabel(col)\n",
    "    axes[i].set_ylabel('Frequency')\n",
    "\n",
    "plt.tight_layout()\n",
    "plt.show()\n"
   ]
  },
  {
   "cell_type": "code",
   "execution_count": 49,
   "id": "76872db5-2cb7-49e4-88c1-922eb719c9b4",
   "metadata": {},
   "outputs": [
    {
     "data": {
      "image/png": "[encoded data removed]",
      "text/plain": [
       "<Figure size 1000x300 with 3 Axes>"
      ]
     },
     "metadata": {},
     "output_type": "display_data"
    }
   ],
   "source": [
    "# Check for Outliers using Boxplots\n",
    "num_cols2= data[['Age','BMI', 'Charges']]\n",
    "\n",
    "fig, axes = plt.subplots(nrows=1, ncols=3, figsize=(10, 3))\n",
    "axes = axes.flatten()  # To easily loop over axes\n",
    "for i, col in enumerate(num_cols2):\n",
    "    sns.boxplot(x=data[col], ax=axes[i])\n",
    "    axes[i].set_title(f'Boxplot of {col}')\n",
    "    axes[i].set_xlabel(col)\n",
    "\n",
    "plt.tight_layout()\n",
    "plt.show()"
   ]
  },
  {
   "cell_type": "markdown",
   "id": "ff20bed0-31bf-4b2e-8be9-9f1316cfd7a2",
   "metadata": {},
   "source": [
    "# Outliers Retained: (BMI and Charges columns are having Outliers)."
   ]
  },
  {
   "cell_type": "markdown",
   "id": "b3bdd5a9-d42e-4a67-a18d-bc52ee436d6b",
   "metadata": {},
   "source": [
    "**For these reasons Outliers are retained:**\n",
    "\n",
    "**BMI:**\n",
    "  \n",
    "      - High BMI is clinically significant.\n",
    "      - Extremely high BMI often correlates with chronic diseases → higher medical charges.\n",
    "      - Removing these may discard key patterns.\n",
    "      - Extreme values cannot always be ignored as they could be real patients with obesity, Diabetes , heart disease etc.\n",
    "**Charges:**\n",
    "\n",
    "        -Outliers in the target may represent real, important cases.\n",
    "        -High medical charges for smokers or people with chronic conditions reflect high costs.\n",
    "        -They are valid and critical for the model to learn extreme cases.\n",
    "        -Removing them biases the model.\n",
    "        -Being the target column, it will impact training as well prediction of charges."
   ]
  },
  {
   "cell_type": "markdown",
   "id": "ff84dd41-79ea-44bf-9ae7-62f5dc202509",
   "metadata": {},
   "source": [
    "# ENCODING CATEGORICAL COLUMNS:"
   ]
  },
  {
   "cell_type": "code",
   "execution_count": 50,
   "id": "e2e6e2b6-8596-40bc-bfe2-64f3d4320a57",
   "metadata": {},
   "outputs": [],
   "source": [
    "# Import the required library for encoding:\n",
    "from sklearn.preprocessing import OneHotEncoder, LabelEncoder"
   ]
  },
  {
   "cell_type": "code",
   "execution_count": 51,
   "id": "c5be68ad-e5ad-4925-99d7-65a3fa125996",
   "metadata": {},
   "outputs": [
    {
     "name": "stdout",
     "output_type": "stream",
     "text": [
      "   Age     BMI  Children  Smoker      Charges  Sex_male  Region_northwest  \\\n",
      "0   19  27.900         0       1  16884.92400         0                 0   \n",
      "1   18  33.770         1       0   1725.55230         1                 0   \n",
      "2   28  33.000         3       0   4449.46200         1                 0   \n",
      "3   33  22.705         0       0  21984.47061         1                 1   \n",
      "4   32  28.880         0       0   3866.85520         1                 1   \n",
      "\n",
      "   Region_southeast  Region_southwest  \n",
      "0                 0                 1  \n",
      "1                 1                 0  \n",
      "2                 1                 0  \n",
      "3                 0                 0  \n",
      "4                 0                 0  \n"
     ]
    }
   ],
   "source": [
    "# 1. Label Encode 'Smoker' (Yes/No → 1/0)\n",
    "le = LabelEncoder()\n",
    "# Apply labelencoder:\n",
    "data['Smoker'] = le.fit_transform(data['Smoker'])\n",
    "\n",
    "# 2. OneHotEncoder for Sex and Region:\n",
    "ohe = OneHotEncoder(drop='first', sparse_output=False) \n",
    "\n",
    "# Apply OneHotEncoder:\n",
    "encoded_array = ohe.fit_transform(data[['Sex', 'Region']])\n",
    "\n",
    "# Convert to integer DataFrame\n",
    "encoded_cols = ohe.get_feature_names_out(['Sex', 'Region'])\n",
    "encoded_df = pd.DataFrame(encoded_array.astype(int), columns=encoded_cols, index=data.index)\n",
    "\n",
    "# Merge into original DataFrame\n",
    "data = data.drop(['Sex', 'Region'], axis=1)\n",
    "data = pd.concat([data, encoded_df], axis=1)\n",
    "\n",
    "# Final encoded DataFrame is ready\n",
    "print(data.head())\n"
   ]
  },
  {
   "cell_type": "code",
   "execution_count": 52,
   "id": "80deeea3-8396-4b53-9248-1969ada2513b",
   "metadata": {},
   "outputs": [
    {
     "data": {
      "text/html": [
       "<div>\n",
       "<style scoped>\n",
       "    .dataframe tbody tr th:only-of-type {\n",
       "        vertical-align: middle;\n",
       "    }\n",
       "\n",
       "    .dataframe tbody tr th {\n",
       "        vertical-align: top;\n",
       "    }\n",
       "\n",
       "    .dataframe thead th {\n",
       "        text-align: right;\n",
       "    }\n",
       "</style>\n",
       "<table border=\"1\" class=\"dataframe\">\n",
       "  <thead>\n",
       "    <tr style=\"text-align: right;\">\n",
       "      <th></th>\n",
       "      <th>Age</th>\n",
       "      <th>BMI</th>\n",
       "      <th>Children</th>\n",
       "      <th>Smoker</th>\n",
       "      <th>Charges</th>\n",
       "      <th>Sex_male</th>\n",
       "      <th>Region_northwest</th>\n",
       "      <th>Region_southeast</th>\n",
       "      <th>Region_southwest</th>\n",
       "    </tr>\n",
       "  </thead>\n",
       "  <tbody>\n",
       "    <tr>\n",
       "      <th>0</th>\n",
       "      <td>19</td>\n",
       "      <td>27.900</td>\n",
       "      <td>0</td>\n",
       "      <td>1</td>\n",
       "      <td>16884.92400</td>\n",
       "      <td>0</td>\n",
       "      <td>0</td>\n",
       "      <td>0</td>\n",
       "      <td>1</td>\n",
       "    </tr>\n",
       "    <tr>\n",
       "      <th>1</th>\n",
       "      <td>18</td>\n",
       "      <td>33.770</td>\n",
       "      <td>1</td>\n",
       "      <td>0</td>\n",
       "      <td>1725.55230</td>\n",
       "      <td>1</td>\n",
       "      <td>0</td>\n",
       "      <td>1</td>\n",
       "      <td>0</td>\n",
       "    </tr>\n",
       "    <tr>\n",
       "      <th>2</th>\n",
       "      <td>28</td>\n",
       "      <td>33.000</td>\n",
       "      <td>3</td>\n",
       "      <td>0</td>\n",
       "      <td>4449.46200</td>\n",
       "      <td>1</td>\n",
       "      <td>0</td>\n",
       "      <td>1</td>\n",
       "      <td>0</td>\n",
       "    </tr>\n",
       "    <tr>\n",
       "      <th>3</th>\n",
       "      <td>33</td>\n",
       "      <td>22.705</td>\n",
       "      <td>0</td>\n",
       "      <td>0</td>\n",
       "      <td>21984.47061</td>\n",
       "      <td>1</td>\n",
       "      <td>1</td>\n",
       "      <td>0</td>\n",
       "      <td>0</td>\n",
       "    </tr>\n",
       "    <tr>\n",
       "      <th>4</th>\n",
       "      <td>32</td>\n",
       "      <td>28.880</td>\n",
       "      <td>0</td>\n",
       "      <td>0</td>\n",
       "      <td>3866.85520</td>\n",
       "      <td>1</td>\n",
       "      <td>1</td>\n",
       "      <td>0</td>\n",
       "      <td>0</td>\n",
       "    </tr>\n",
       "    <tr>\n",
       "      <th>...</th>\n",
       "      <td>...</td>\n",
       "      <td>...</td>\n",
       "      <td>...</td>\n",
       "      <td>...</td>\n",
       "      <td>...</td>\n",
       "      <td>...</td>\n",
       "      <td>...</td>\n",
       "      <td>...</td>\n",
       "      <td>...</td>\n",
       "    </tr>\n",
       "    <tr>\n",
       "      <th>1333</th>\n",
       "      <td>50</td>\n",
       "      <td>30.970</td>\n",
       "      <td>3</td>\n",
       "      <td>0</td>\n",
       "      <td>10600.54830</td>\n",
       "      <td>1</td>\n",
       "      <td>1</td>\n",
       "      <td>0</td>\n",
       "      <td>0</td>\n",
       "    </tr>\n",
       "    <tr>\n",
       "      <th>1334</th>\n",
       "      <td>18</td>\n",
       "      <td>31.920</td>\n",
       "      <td>0</td>\n",
       "      <td>0</td>\n",
       "      <td>2205.98080</td>\n",
       "      <td>0</td>\n",
       "      <td>0</td>\n",
       "      <td>0</td>\n",
       "      <td>0</td>\n",
       "    </tr>\n",
       "    <tr>\n",
       "      <th>1335</th>\n",
       "      <td>18</td>\n",
       "      <td>36.850</td>\n",
       "      <td>0</td>\n",
       "      <td>0</td>\n",
       "      <td>1629.83350</td>\n",
       "      <td>0</td>\n",
       "      <td>0</td>\n",
       "      <td>1</td>\n",
       "      <td>0</td>\n",
       "    </tr>\n",
       "    <tr>\n",
       "      <th>1336</th>\n",
       "      <td>21</td>\n",
       "      <td>25.800</td>\n",
       "      <td>0</td>\n",
       "      <td>0</td>\n",
       "      <td>2007.94500</td>\n",
       "      <td>0</td>\n",
       "      <td>0</td>\n",
       "      <td>0</td>\n",
       "      <td>1</td>\n",
       "    </tr>\n",
       "    <tr>\n",
       "      <th>1337</th>\n",
       "      <td>61</td>\n",
       "      <td>29.070</td>\n",
       "      <td>0</td>\n",
       "      <td>1</td>\n",
       "      <td>29141.36030</td>\n",
       "      <td>0</td>\n",
       "      <td>1</td>\n",
       "      <td>0</td>\n",
       "      <td>0</td>\n",
       "    </tr>\n",
       "  </tbody>\n",
       "</table>\n",
       "<p>1337 rows × 9 columns</p>\n",
       "</div>"
      ],
      "text/plain": [
       "      Age     BMI  Children  Smoker      Charges  Sex_male  Region_northwest  \\\n",
       "0      19  27.900         0       1  16884.92400         0                 0   \n",
       "1      18  33.770         1       0   1725.55230         1                 0   \n",
       "2      28  33.000         3       0   4449.46200         1                 0   \n",
       "3      33  22.705         0       0  21984.47061         1                 1   \n",
       "4      32  28.880         0       0   3866.85520         1                 1   \n",
       "...   ...     ...       ...     ...          ...       ...               ...   \n",
       "1333   50  30.970         3       0  10600.54830         1                 1   \n",
       "1334   18  31.920         0       0   2205.98080         0                 0   \n",
       "1335   18  36.850         0       0   1629.83350         0                 0   \n",
       "1336   21  25.800         0       0   2007.94500         0                 0   \n",
       "1337   61  29.070         0       1  29141.36030         0                 1   \n",
       "\n",
       "      Region_southeast  Region_southwest  \n",
       "0                    0                 1  \n",
       "1                    1                 0  \n",
       "2                    1                 0  \n",
       "3                    0                 0  \n",
       "4                    0                 0  \n",
       "...                ...               ...  \n",
       "1333                 0                 0  \n",
       "1334                 0                 0  \n",
       "1335                 1                 0  \n",
       "1336                 0                 1  \n",
       "1337                 0                 0  \n",
       "\n",
       "[1337 rows x 9 columns]"
      ]
     },
     "execution_count": 52,
     "metadata": {},
     "output_type": "execute_result"
    }
   ],
   "source": [
    "data"
   ]
  },
  {
   "cell_type": "code",
   "execution_count": 53,
   "id": "a8220a59-2b45-4c89-990e-dc864a7ce71d",
   "metadata": {},
   "outputs": [
    {
     "data": {
      "text/html": [
       "<div>\n",
       "<style scoped>\n",
       "    .dataframe tbody tr th:only-of-type {\n",
       "        vertical-align: middle;\n",
       "    }\n",
       "\n",
       "    .dataframe tbody tr th {\n",
       "        vertical-align: top;\n",
       "    }\n",
       "\n",
       "    .dataframe thead th {\n",
       "        text-align: right;\n",
       "    }\n",
       "</style>\n",
       "<table border=\"1\" class=\"dataframe\">\n",
       "  <thead>\n",
       "    <tr style=\"text-align: right;\">\n",
       "      <th></th>\n",
       "      <th>Age</th>\n",
       "      <th>BMI</th>\n",
       "      <th>Children</th>\n",
       "      <th>Smoker</th>\n",
       "      <th>Charges</th>\n",
       "      <th>Sex_male</th>\n",
       "      <th>Region_northwest</th>\n",
       "      <th>Region_southeast</th>\n",
       "      <th>Region_southwest</th>\n",
       "    </tr>\n",
       "  </thead>\n",
       "  <tbody>\n",
       "    <tr>\n",
       "      <th>0</th>\n",
       "      <td>19</td>\n",
       "      <td>27.900</td>\n",
       "      <td>0</td>\n",
       "      <td>1</td>\n",
       "      <td>16884.92400</td>\n",
       "      <td>0</td>\n",
       "      <td>0</td>\n",
       "      <td>0</td>\n",
       "      <td>1</td>\n",
       "    </tr>\n",
       "    <tr>\n",
       "      <th>1</th>\n",
       "      <td>18</td>\n",
       "      <td>33.770</td>\n",
       "      <td>1</td>\n",
       "      <td>0</td>\n",
       "      <td>1725.55230</td>\n",
       "      <td>1</td>\n",
       "      <td>0</td>\n",
       "      <td>1</td>\n",
       "      <td>0</td>\n",
       "    </tr>\n",
       "    <tr>\n",
       "      <th>2</th>\n",
       "      <td>28</td>\n",
       "      <td>33.000</td>\n",
       "      <td>3</td>\n",
       "      <td>0</td>\n",
       "      <td>4449.46200</td>\n",
       "      <td>1</td>\n",
       "      <td>0</td>\n",
       "      <td>1</td>\n",
       "      <td>0</td>\n",
       "    </tr>\n",
       "    <tr>\n",
       "      <th>3</th>\n",
       "      <td>33</td>\n",
       "      <td>22.705</td>\n",
       "      <td>0</td>\n",
       "      <td>0</td>\n",
       "      <td>21984.47061</td>\n",
       "      <td>1</td>\n",
       "      <td>1</td>\n",
       "      <td>0</td>\n",
       "      <td>0</td>\n",
       "    </tr>\n",
       "    <tr>\n",
       "      <th>4</th>\n",
       "      <td>32</td>\n",
       "      <td>28.880</td>\n",
       "      <td>0</td>\n",
       "      <td>0</td>\n",
       "      <td>3866.85520</td>\n",
       "      <td>1</td>\n",
       "      <td>1</td>\n",
       "      <td>0</td>\n",
       "      <td>0</td>\n",
       "    </tr>\n",
       "  </tbody>\n",
       "</table>\n",
       "</div>"
      ],
      "text/plain": [
       "   Age     BMI  Children  Smoker      Charges  Sex_male  Region_northwest  \\\n",
       "0   19  27.900         0       1  16884.92400         0                 0   \n",
       "1   18  33.770         1       0   1725.55230         1                 0   \n",
       "2   28  33.000         3       0   4449.46200         1                 0   \n",
       "3   33  22.705         0       0  21984.47061         1                 1   \n",
       "4   32  28.880         0       0   3866.85520         1                 1   \n",
       "\n",
       "   Region_southeast  Region_southwest  \n",
       "0                 0                 1  \n",
       "1                 1                 0  \n",
       "2                 1                 0  \n",
       "3                 0                 0  \n",
       "4                 0                 0  "
      ]
     },
     "execution_count": 53,
     "metadata": {},
     "output_type": "execute_result"
    }
   ],
   "source": [
    "# Export the data into Excel file(*.csv) for a later use while model building:\n",
    "\n",
    "data.to_csv(r\"Encoded_Data.csv\", index= False) \n",
    "data.head()"
   ]
  },
  {
   "cell_type": "code",
   "execution_count": 54,
   "id": "65dacef5-7c80-49c0-a8a4-9e9238ee7744",
   "metadata": {},
   "outputs": [
    {
     "data": {
      "text/html": [
       "<div>\n",
       "<style scoped>\n",
       "    .dataframe tbody tr th:only-of-type {\n",
       "        vertical-align: middle;\n",
       "    }\n",
       "\n",
       "    .dataframe tbody tr th {\n",
       "        vertical-align: top;\n",
       "    }\n",
       "\n",
       "    .dataframe thead th {\n",
       "        text-align: right;\n",
       "    }\n",
       "</style>\n",
       "<table border=\"1\" class=\"dataframe\">\n",
       "  <thead>\n",
       "    <tr style=\"text-align: right;\">\n",
       "      <th></th>\n",
       "      <th>Age</th>\n",
       "      <th>BMI</th>\n",
       "      <th>Children</th>\n",
       "      <th>Smoker</th>\n",
       "      <th>Charges</th>\n",
       "      <th>Sex_male</th>\n",
       "      <th>Region_northwest</th>\n",
       "      <th>Region_southeast</th>\n",
       "      <th>Region_southwest</th>\n",
       "    </tr>\n",
       "  </thead>\n",
       "  <tbody>\n",
       "    <tr>\n",
       "      <th>Age</th>\n",
       "      <td>1.000000</td>\n",
       "      <td>0.109344</td>\n",
       "      <td>0.041536</td>\n",
       "      <td>-0.025587</td>\n",
       "      <td>0.298308</td>\n",
       "      <td>-0.019814</td>\n",
       "      <td>0.001495</td>\n",
       "      <td>-0.012311</td>\n",
       "      <td>0.009415</td>\n",
       "    </tr>\n",
       "    <tr>\n",
       "      <th>BMI</th>\n",
       "      <td>0.109344</td>\n",
       "      <td>1.000000</td>\n",
       "      <td>0.012755</td>\n",
       "      <td>0.003746</td>\n",
       "      <td>0.198401</td>\n",
       "      <td>0.046397</td>\n",
       "      <td>-0.136138</td>\n",
       "      <td>0.270057</td>\n",
       "      <td>-0.006211</td>\n",
       "    </tr>\n",
       "    <tr>\n",
       "      <th>Children</th>\n",
       "      <td>0.041536</td>\n",
       "      <td>0.012755</td>\n",
       "      <td>1.000000</td>\n",
       "      <td>0.007331</td>\n",
       "      <td>0.067389</td>\n",
       "      <td>0.017848</td>\n",
       "      <td>0.026044</td>\n",
       "      <td>-0.023492</td>\n",
       "      <td>0.021538</td>\n",
       "    </tr>\n",
       "    <tr>\n",
       "      <th>Smoker</th>\n",
       "      <td>-0.025587</td>\n",
       "      <td>0.003746</td>\n",
       "      <td>0.007331</td>\n",
       "      <td>1.000000</td>\n",
       "      <td>0.787234</td>\n",
       "      <td>0.076596</td>\n",
       "      <td>-0.036321</td>\n",
       "      <td>0.068282</td>\n",
       "      <td>-0.037168</td>\n",
       "    </tr>\n",
       "    <tr>\n",
       "      <th>Charges</th>\n",
       "      <td>0.298308</td>\n",
       "      <td>0.198401</td>\n",
       "      <td>0.067389</td>\n",
       "      <td>0.787234</td>\n",
       "      <td>1.000000</td>\n",
       "      <td>0.058044</td>\n",
       "      <td>-0.038695</td>\n",
       "      <td>0.073578</td>\n",
       "      <td>-0.043637</td>\n",
       "    </tr>\n",
       "    <tr>\n",
       "      <th>Sex_male</th>\n",
       "      <td>-0.019814</td>\n",
       "      <td>0.046397</td>\n",
       "      <td>0.017848</td>\n",
       "      <td>0.076596</td>\n",
       "      <td>0.058044</td>\n",
       "      <td>1.000000</td>\n",
       "      <td>-0.012482</td>\n",
       "      <td>0.017578</td>\n",
       "      <td>-0.003767</td>\n",
       "    </tr>\n",
       "    <tr>\n",
       "      <th>Region_northwest</th>\n",
       "      <td>0.001495</td>\n",
       "      <td>-0.136138</td>\n",
       "      <td>0.026044</td>\n",
       "      <td>-0.036321</td>\n",
       "      <td>-0.038695</td>\n",
       "      <td>-0.012482</td>\n",
       "      <td>1.000000</td>\n",
       "      <td>-0.345909</td>\n",
       "      <td>-0.320493</td>\n",
       "    </tr>\n",
       "    <tr>\n",
       "      <th>Region_southeast</th>\n",
       "      <td>-0.012311</td>\n",
       "      <td>0.270057</td>\n",
       "      <td>-0.023492</td>\n",
       "      <td>0.068282</td>\n",
       "      <td>0.073578</td>\n",
       "      <td>0.017578</td>\n",
       "      <td>-0.345909</td>\n",
       "      <td>1.000000</td>\n",
       "      <td>-0.346614</td>\n",
       "    </tr>\n",
       "    <tr>\n",
       "      <th>Region_southwest</th>\n",
       "      <td>0.009415</td>\n",
       "      <td>-0.006211</td>\n",
       "      <td>0.021538</td>\n",
       "      <td>-0.037168</td>\n",
       "      <td>-0.043637</td>\n",
       "      <td>-0.003767</td>\n",
       "      <td>-0.320493</td>\n",
       "      <td>-0.346614</td>\n",
       "      <td>1.000000</td>\n",
       "    </tr>\n",
       "  </tbody>\n",
       "</table>\n",
       "</div>"
      ],
      "text/plain": [
       "                       Age       BMI  Children    Smoker   Charges  Sex_male  \\\n",
       "Age               1.000000  0.109344  0.041536 -0.025587  0.298308 -0.019814   \n",
       "BMI               0.109344  1.000000  0.012755  0.003746  0.198401  0.046397   \n",
       "Children          0.041536  0.012755  1.000000  0.007331  0.067389  0.017848   \n",
       "Smoker           -0.025587  0.003746  0.007331  1.000000  0.787234  0.076596   \n",
       "Charges           0.298308  0.198401  0.067389  0.787234  1.000000  0.058044   \n",
       "Sex_male         -0.019814  0.046397  0.017848  0.076596  0.058044  1.000000   \n",
       "Region_northwest  0.001495 -0.136138  0.026044 -0.036321 -0.038695 -0.012482   \n",
       "Region_southeast -0.012311  0.270057 -0.023492  0.068282  0.073578  0.017578   \n",
       "Region_southwest  0.009415 -0.006211  0.021538 -0.037168 -0.043637 -0.003767   \n",
       "\n",
       "                  Region_northwest  Region_southeast  Region_southwest  \n",
       "Age                       0.001495         -0.012311          0.009415  \n",
       "BMI                      -0.136138          0.270057         -0.006211  \n",
       "Children                  0.026044         -0.023492          0.021538  \n",
       "Smoker                   -0.036321          0.068282         -0.037168  \n",
       "Charges                  -0.038695          0.073578         -0.043637  \n",
       "Sex_male                 -0.012482          0.017578         -0.003767  \n",
       "Region_northwest          1.000000         -0.345909         -0.320493  \n",
       "Region_southeast         -0.345909          1.000000         -0.346614  \n",
       "Region_southwest         -0.320493         -0.346614          1.000000  "
      ]
     },
     "execution_count": 54,
     "metadata": {},
     "output_type": "execute_result"
    }
   ],
   "source": [
    "# Find the Correlation between variables:\n",
    "data.corr()"
   ]
  },
  {
   "cell_type": "code",
   "execution_count": 55,
   "id": "bcd3eb13-a5c9-425a-8365-949aa2449bf2",
   "metadata": {},
   "outputs": [
    {
     "data": {
      "image/png": "[encoded data removed]",
      "text/plain": [
       "<Figure size 800x600 with 2 Axes>"
      ]
     },
     "metadata": {},
     "output_type": "display_data"
    }
   ],
   "source": [
    "# Check Correlation with Heatmap:\n",
    "plt.figure(figsize=(8,6))\n",
    "sns.heatmap(data.corr(), annot=True,cmap='Blues')\n",
    "plt.show()"
   ]
  },
  {
   "cell_type": "markdown",
   "id": "1d74c760-1c2b-45d2-8000-d953ac8fe08c",
   "metadata": {},
   "source": [
    "# Top five Feature Correlations with Target column(Charges):\n",
    "\n",
    "    * Smoker\t       0.79\n",
    "    * Age\t           0.30\n",
    "    * BMI\t           0.20\n",
    "    * Region_southeast 0.074\n",
    "    * Sex_male\t       0.058"
   ]
  },
  {
   "cell_type": "markdown",
   "id": "52a4f61e-66d2-4420-8030-f6679a40579a",
   "metadata": {},
   "source": [
    "# MODEL BUILDING:"
   ]
  },
  {
   "cell_type": "code",
   "execution_count": 20,
   "id": "cedab736-20fd-45b3-821b-6ef864bc1c19",
   "metadata": {},
   "outputs": [],
   "source": [
    "# Import required Libraries:\n",
    "import pandas as pd\n",
    "import numpy as np\n",
    "from sklearn.linear_model import LinearRegression\n",
    "from sklearn.svm import SVR\n",
    "from sklearn.tree import DecisionTreeRegressor\n",
    "from sklearn.ensemble import RandomForestRegressor, GradientBoostingRegressor\n",
    "from sklearn.neural_network import MLPRegressor\n",
    "\n",
    "from sklearn.model_selection import train_test_split, GridSearchCV, KFold,cross_val_score\n",
    "from sklearn.preprocessing import StandardScaler\n",
    "from sklearn.pipeline import Pipeline\n",
    "from sklearn.metrics import mean_squared_error, r2_score,mean_absolute_error\n",
    "import warnings\n",
    "warnings.filterwarnings(\"ignore\")"
   ]
  },
  {
   "cell_type": "code",
   "execution_count": 21,
   "id": "aafc9486-7818-4230-98c2-a4cfbb76ede7",
   "metadata": {},
   "outputs": [
    {
     "data": {
      "text/html": [
       "<div>\n",
       "<style scoped>\n",
       "    .dataframe tbody tr th:only-of-type {\n",
       "        vertical-align: middle;\n",
       "    }\n",
       "\n",
       "    .dataframe tbody tr th {\n",
       "        vertical-align: top;\n",
       "    }\n",
       "\n",
       "    .dataframe thead th {\n",
       "        text-align: right;\n",
       "    }\n",
       "</style>\n",
       "<table border=\"1\" class=\"dataframe\">\n",
       "  <thead>\n",
       "    <tr style=\"text-align: right;\">\n",
       "      <th></th>\n",
       "      <th>Age</th>\n",
       "      <th>BMI</th>\n",
       "      <th>Children</th>\n",
       "      <th>Smoker</th>\n",
       "      <th>Charges</th>\n",
       "      <th>Sex_male</th>\n",
       "      <th>Region_northwest</th>\n",
       "      <th>Region_southeast</th>\n",
       "      <th>Region_southwest</th>\n",
       "    </tr>\n",
       "  </thead>\n",
       "  <tbody>\n",
       "    <tr>\n",
       "      <th>0</th>\n",
       "      <td>19</td>\n",
       "      <td>27.900</td>\n",
       "      <td>0</td>\n",
       "      <td>1</td>\n",
       "      <td>16884.92400</td>\n",
       "      <td>0</td>\n",
       "      <td>0</td>\n",
       "      <td>0</td>\n",
       "      <td>1</td>\n",
       "    </tr>\n",
       "    <tr>\n",
       "      <th>1</th>\n",
       "      <td>18</td>\n",
       "      <td>33.770</td>\n",
       "      <td>1</td>\n",
       "      <td>0</td>\n",
       "      <td>1725.55230</td>\n",
       "      <td>1</td>\n",
       "      <td>0</td>\n",
       "      <td>1</td>\n",
       "      <td>0</td>\n",
       "    </tr>\n",
       "    <tr>\n",
       "      <th>2</th>\n",
       "      <td>28</td>\n",
       "      <td>33.000</td>\n",
       "      <td>3</td>\n",
       "      <td>0</td>\n",
       "      <td>4449.46200</td>\n",
       "      <td>1</td>\n",
       "      <td>0</td>\n",
       "      <td>1</td>\n",
       "      <td>0</td>\n",
       "    </tr>\n",
       "    <tr>\n",
       "      <th>3</th>\n",
       "      <td>33</td>\n",
       "      <td>22.705</td>\n",
       "      <td>0</td>\n",
       "      <td>0</td>\n",
       "      <td>21984.47061</td>\n",
       "      <td>1</td>\n",
       "      <td>1</td>\n",
       "      <td>0</td>\n",
       "      <td>0</td>\n",
       "    </tr>\n",
       "    <tr>\n",
       "      <th>4</th>\n",
       "      <td>32</td>\n",
       "      <td>28.880</td>\n",
       "      <td>0</td>\n",
       "      <td>0</td>\n",
       "      <td>3866.85520</td>\n",
       "      <td>1</td>\n",
       "      <td>1</td>\n",
       "      <td>0</td>\n",
       "      <td>0</td>\n",
       "    </tr>\n",
       "  </tbody>\n",
       "</table>\n",
       "</div>"
      ],
      "text/plain": [
       "   Age     BMI  Children  Smoker      Charges  Sex_male  Region_northwest  \\\n",
       "0   19  27.900         0       1  16884.92400         0                 0   \n",
       "1   18  33.770         1       0   1725.55230         1                 0   \n",
       "2   28  33.000         3       0   4449.46200         1                 0   \n",
       "3   33  22.705         0       0  21984.47061         1                 1   \n",
       "4   32  28.880         0       0   3866.85520         1                 1   \n",
       "\n",
       "   Region_southeast  Region_southwest  \n",
       "0                 0                 1  \n",
       "1                 1                 0  \n",
       "2                 1                 0  \n",
       "3                 0                 0  \n",
       "4                 0                 0  "
      ]
     },
     "execution_count": 21,
     "metadata": {},
     "output_type": "execute_result"
    }
   ],
   "source": [
    "# Encoded data is being loaded from csv file which was exported earlier after encoding:\n",
    "data= pd.read_csv(r\"Encoded_Data.csv\")\n",
    "data.head()"
   ]
  },
  {
   "cell_type": "code",
   "execution_count": 22,
   "id": "1a4de0af-472f-4139-afb4-dc41a1fe23fc",
   "metadata": {},
   "outputs": [],
   "source": [
    "# Split Data into X and y:\n",
    "X = data.drop('Charges', axis=1)\n",
    "y = data['Charges']"
   ]
  },
  {
   "cell_type": "code",
   "execution_count": 23,
   "id": "eea69b70-3ea5-40cc-b68f-191f0cc885e0",
   "metadata": {},
   "outputs": [],
   "source": [
    "# Split X, y data further into train and test data with perentages as train =80% and test =20%:\n",
    "X_train, X_test, y_train, y_test = train_test_split(X, y, test_size=0.2, random_state=42)"
   ]
  },
  {
   "cell_type": "code",
   "execution_count": 24,
   "id": "d7070e47-2d30-423e-b27c-a2ad499948a9",
   "metadata": {},
   "outputs": [
    {
     "data": {
      "text/plain": [
       "(1069, 8)"
      ]
     },
     "execution_count": 24,
     "metadata": {},
     "output_type": "execute_result"
    }
   ],
   "source": [
    "# X_train no of Rows and Columns:\n",
    "X_train.shape"
   ]
  },
  {
   "cell_type": "code",
   "execution_count": 25,
   "id": "b410a663-def8-41a1-83f7-a96f4f88bb8a",
   "metadata": {},
   "outputs": [
    {
     "data": {
      "text/plain": [
       "(1069,)"
      ]
     },
     "execution_count": 25,
     "metadata": {},
     "output_type": "execute_result"
    }
   ],
   "source": [
    "# y_train no of rows:\n",
    "y_train.shape"
   ]
  },
  {
   "cell_type": "code",
   "execution_count": 26,
   "id": "50457ef3-7993-4f60-924d-6b091d8f37c9",
   "metadata": {},
   "outputs": [
    {
     "name": "stdout",
     "output_type": "stream",
     "text": [
      "Test set size: 268 samples\n",
      "Number of features: 8\n"
     ]
    }
   ],
   "source": [
    "print(f\"Test set size: {X_test.shape[0]} samples\")\n",
    "print(f\"Number of features: {X.shape[1]}\")"
   ]
  },
  {
   "cell_type": "markdown",
   "id": "917e0ea2-3230-4f2f-8936-07bcb51e56f1",
   "metadata": {},
   "source": [
    "# Build six models with the below algorithms:\n",
    "    * LinearRegression\n",
    "    * Support Vector Regression\n",
    "    * Decision Tree Regressor\n",
    "    * RandomForestRegressor\n",
    "    * GradientBoostingRegressor\n",
    "    * MLPRegressor"
   ]
  },
  {
   "cell_type": "code",
   "execution_count": 27,
   "id": "31443953-666a-4a2d-b55c-b3d539c69c6b",
   "metadata": {},
   "outputs": [],
   "source": [
    "# Create a variable to store the Reulsts of Models to present a summary of all models towards the end:\n",
    "model_results = []"
   ]
  },
  {
   "cell_type": "code",
   "execution_count": 28,
   "id": "1efdbeb2-c78d-4e05-b08f-e0a497c0d0cf",
   "metadata": {},
   "outputs": [
    {
     "name": "stdout",
     "output_type": "stream",
     "text": [
      "LINEAR REGRESSION\n",
      "==================================================\n",
      "\n",
      "Performance Metrics:\n",
      "Training - R²: 0.7299\n",
      "Test     - R²: 0.8069, RMSE: $5,956.34, MAE: $4,177.05\n",
      "\n",
      "Cross Validation results\n",
      "5-Fold CV R² Scores: ['0.6941', '0.7636', '0.7211', '0.7058', '0.7442']\n",
      "Mean CV R² Score: 0.7258\n",
      "==================================================\n"
     ]
    }
   ],
   "source": [
    "# (1)Linear Regression:\n",
    "print(\"LINEAR REGRESSION\")\n",
    "print(\"=\"*50)\n",
    "\n",
    "pipe_lr = Pipeline([\n",
    "    ('scaler', StandardScaler()),\n",
    "    ('model', LinearRegression())\n",
    "])\n",
    "\n",
    "# Training the Model:\n",
    "pipe_lr.fit(X_train, y_train)\n",
    "\n",
    "# Predictions\n",
    "lr_train_pred = pipe_lr.predict(X_train)\n",
    "lr_test_pred = pipe_lr.predict(X_test)\n",
    "\n",
    "# Metrics\n",
    "lr_train_r2 = r2_score(y_train, lr_train_pred)\n",
    "lr_test_r2 = r2_score(y_test, lr_test_pred)\n",
    "lr_test_rmse = np.sqrt(mean_squared_error(y_test, lr_test_pred))\n",
    "lr_test_mae = mean_absolute_error(y_test, lr_test_pred)\n",
    "\n",
    "# Cross-validation\n",
    "lr_cv_scores = cross_val_score(pipe_lr, X_train, y_train, cv=5, scoring='r2')\n",
    "\n",
    "print(f\"\\nPerformance Metrics:\")\n",
    "print(f\"Training - R²: {lr_train_r2:.4f}\")\n",
    "print(f\"Test     - R²: {lr_test_r2:.4f}, RMSE: ${lr_test_rmse:,.2f}, MAE: ${lr_test_mae:,.2f}\")\n",
    "\n",
    "print(f\"\\nCross Validation results\")\n",
    "print(f\"5-Fold CV R² Scores: {[f'{score:.4f}' for score in lr_cv_scores]}\")\n",
    "print(f\"Mean CV R² Score: {lr_cv_scores.mean():.4f}\")\n",
    "\n",
    "# Store results\n",
    "model_results.append({\n",
    "    'ModelName': 'Linear Regression',\n",
    "    'Test_R2_Score': lr_test_r2,\n",
    "    'Mean_CV_Score': lr_cv_scores.mean(),\n",
    "    'Best_Params': 'Default'\n",
    "})\n",
    "\n",
    "print(\"=\"*50)"
   ]
  },
  {
   "cell_type": "code",
   "execution_count": 29,
   "id": "3b504470-0312-4afa-ae26-ff970cd06f18",
   "metadata": {},
   "outputs": [
    {
     "name": "stdout",
     "output_type": "stream",
     "text": [
      "SUPPORT VECTOR REGRESSION\n",
      "==================================================\n",
      "\n",
      "Performance Metrics:\n",
      "Training - R²: 0.5921\n",
      "Test     - R²: 0.6129, RMSE: $8,433.53, MAE: $4,187.92\n",
      "\n",
      "Cross-Validation Results:\n",
      "5-Fold CV R² Scores: ['0.5172', '0.6213', '0.6132', '0.5962', '0.6023']\n",
      "Mean CV R² Score: 0.5900\n",
      "\n",
      "Hyperparameter Tuning Results:\n",
      "Best Parameters: {'model__C': 100, 'model__gamma': 'scale', 'model__kernel': 'linear'}\n",
      "==================================================\n"
     ]
    }
   ],
   "source": [
    "# (2)Support Vector Regression:\n",
    "print(\"SUPPORT VECTOR REGRESSION\")\n",
    "print(\"=\"*50)\n",
    "\n",
    "pipe_svr = Pipeline([\n",
    "    ('scaler', StandardScaler()),\n",
    "    ('model', SVR())\n",
    "])\n",
    "\n",
    "# Hyperparameter tuning for SVR\n",
    "svr_param_grid = {\n",
    "    'model__C': [0.1, 1, 10, 100],\n",
    "    'model__gamma': ['scale', 'auto', 0.001, 0.01, 0.1],\n",
    "    'model__kernel': ['rbf', 'linear']\n",
    "}\n",
    "\n",
    "# Training the data with GridSearchCV:\n",
    "svr_grid = GridSearchCV(pipe_svr, svr_param_grid, cv=5, scoring='r2', n_jobs= 1)\n",
    "svr_grid.fit(X_train, y_train)\n",
    "\n",
    "# Best pipeline\n",
    "best_pipe_svr = svr_grid.best_estimator_\n",
    "\n",
    "# Predictions\n",
    "svr_train_pred = best_pipe_svr.predict(X_train)\n",
    "svr_test_pred = best_pipe_svr.predict(X_test)\n",
    "\n",
    "# Metrics\n",
    "svr_train_r2 = r2_score(y_train, svr_train_pred)\n",
    "svr_test_r2 = r2_score(y_test, svr_test_pred)\n",
    "svr_test_rmse = np.sqrt(mean_squared_error(y_test, svr_test_pred))\n",
    "svr_test_mae = mean_absolute_error(y_test, svr_test_pred)\n",
    "\n",
    "# Cross-validation\n",
    "svr_cv_scores = cross_val_score(best_pipe_svr, X_train, y_train, cv=5, scoring='r2')\n",
    "\n",
    "print(f\"\\nPerformance Metrics:\")\n",
    "print(f\"Training - R²: {svr_train_r2:.4f}\")\n",
    "print(f\"Test     - R²: {svr_test_r2:.4f}, RMSE: ${svr_test_rmse:,.2f}, MAE: ${svr_test_mae:,.2f}\")\n",
    "\n",
    "print(f\"\\nCross-Validation Results:\")\n",
    "print(f\"5-Fold CV R² Scores: {[f'{score:.4f}' for score in svr_cv_scores]}\")\n",
    "print(f\"Mean CV R² Score: {svr_cv_scores.mean():.4f}\")\n",
    "\n",
    "print(f\"\\nHyperparameter Tuning Results:\")\n",
    "print(f\"Best Parameters: {svr_grid.best_params_}\")\n",
    "\n",
    "# Store results\n",
    "model_results.append({\n",
    "    'ModelName': 'Support Vector Regression',\n",
    "    'Test_R2_Score': svr_test_r2,\n",
    "    'Mean_CV_Score': svr_cv_scores.mean(),\n",
    "    'Best_Params': svr_grid.best_params_\n",
    "})\n",
    "\n",
    "print(\"=\"*50)"
   ]
  },
  {
   "cell_type": "code",
   "execution_count": 30,
   "id": "ef12e402-2fcd-4426-aa7f-e6517136755e",
   "metadata": {},
   "outputs": [
    {
     "name": "stdout",
     "output_type": "stream",
     "text": [
      "DECISION TREE REGRESSOR\n",
      "==================================================\n",
      "\n",
      "Performance Metrics:\n",
      "Training - R²: 0.8035\n",
      "Test     - R²: 0.7684, RMSE: $6,524.09, MAE: $3,834.24\n",
      "\n",
      "Cross-Validation Results:\n",
      "5-Fold CV R² Scores: ['0.7552', '0.7575', '0.7498', '0.7398', '0.8360']\n",
      "Mean CV R² Score: 0.7677\n",
      "\n",
      "Hyperparameter Tuning Results:\n",
      "Best Parameters: {'max_depth': 7, 'max_features': 'sqrt', 'min_samples_leaf': 1, 'min_samples_split': 10}\n",
      "==================================================\n"
     ]
    }
   ],
   "source": [
    "# (3)Decision Tree Regressor with Hyperparameter Tuning\n",
    "print(\"DECISION TREE REGRESSOR\")\n",
    "print(\"=\"*50)\n",
    "\n",
    "# Hyperparameter tuning for Decision Tree:\n",
    "dt_param_grid = {\n",
    "    'max_depth': [None, 3, 5, 7, 10],\n",
    "    'min_samples_split': [2, 5, 10],\n",
    "    'min_samples_leaf': [1, 2, 4],\n",
    "    'max_features': ['sqrt', 'log2']\n",
    "}\n",
    "\n",
    "# Applying GridSearchCV:\n",
    "dt_grid = GridSearchCV(DecisionTreeRegressor(random_state=42), dt_param_grid, cv=5, scoring='r2', n_jobs=1)\n",
    "dt_grid.fit(X_train, y_train)\n",
    "\n",
    "# Best model\n",
    "best_dt = dt_grid.best_estimator_\n",
    "\n",
    "# Predictions\n",
    "dt_train_pred = best_dt.predict(X_train)\n",
    "dt_test_pred = best_dt.predict(X_test)\n",
    "\n",
    "# Metrics\n",
    "dt_train_r2 = r2_score(y_train, dt_train_pred)\n",
    "dt_test_r2 = r2_score(y_test, dt_test_pred)\n",
    "dt_test_rmse = np.sqrt(mean_squared_error(y_test, dt_test_pred))\n",
    "dt_test_mae = mean_absolute_error(y_test, dt_test_pred)\n",
    "\n",
    "# Cross-validation\n",
    "\n",
    "dt_cv_scores = cross_val_score(best_dt, X_train, y_train, cv=5, scoring='r2')\n",
    "\n",
    "\n",
    "print(f\"\\nPerformance Metrics:\")\n",
    "print(f\"Training - R²: {dt_train_r2:.4f}\")\n",
    "print(f\"Test     - R²: {dt_test_r2:.4f}, RMSE: ${dt_test_rmse:,.2f}, MAE: ${dt_test_mae:,.2f}\")\n",
    "\n",
    "print(f\"\\nCross-Validation Results:\")\n",
    "print(f\"5-Fold CV R² Scores: {[f'{score:.4f}' for score in dt_cv_scores]}\")\n",
    "print(f\"Mean CV R² Score: {dt_cv_scores.mean():.4f}\")\n",
    "\n",
    "print(f\"\\nHyperparameter Tuning Results:\")\n",
    "print(f\"Best Parameters: {dt_grid.best_params_}\")\n",
    "\n",
    "# Store results\n",
    "model_results.append({\n",
    "    'ModelName': 'Decision Tree Regressor',\n",
    "    'Test_R2_Score': dt_test_r2,\n",
    "    'Mean_CV_Score': dt_cv_scores.mean(),\n",
    "    'Best_Params': dt_grid.best_params_\n",
    "})\n",
    "\n",
    "print(\"=\"*50)"
   ]
  },
  {
   "cell_type": "code",
   "execution_count": 31,
   "id": "849404d8-bb14-47ed-837f-2db10b79e671",
   "metadata": {},
   "outputs": [
    {
     "name": "stdout",
     "output_type": "stream",
     "text": [
      "RANDOM FOREST REGRESSOR\n",
      "==================================================\n",
      "\n",
      "Performance Metrics:\n",
      "Training - R²: 0.9309\n",
      "Test     - R²: 0.8495, RMSE: $5,259.26, MAE: $3,402.40\n",
      "\n",
      "Cross-Validation Results:\n",
      "5-Fold CV R² Scores: ['0.7849', '0.8217', '0.8199', '0.8155', '0.8182']\n",
      "Mean CV R² Score: 0.8121\n",
      "\n",
      "Hyperparameter Tuning Results:\n",
      "Best Parameters: {'max_depth': None, 'max_features': 'sqrt', 'min_samples_leaf': 1, 'min_samples_split': 5, 'n_estimators': 100}\n",
      "==================================================\n"
     ]
    }
   ],
   "source": [
    "# (4)Random Forest Regressor with Hyperparameter Tuning\n",
    "print(\"RANDOM FOREST REGRESSOR\")\n",
    "print(\"=\"*50)\n",
    "\n",
    "# Hyperparameter tuning for Random Forest:\n",
    "rf_param_grid = {\n",
    "    'n_estimators': [50, 100, 200],\n",
    "    'max_depth': [None, 3, 5, 7],\n",
    "    'min_samples_split': [2, 5, 10],\n",
    "    'min_samples_leaf': [1, 2, 4],\n",
    "    'max_features': ['auto', 'sqrt']\n",
    "}\n",
    "\n",
    "# Applying GridSearchCV:\n",
    "rf_grid = GridSearchCV(RandomForestRegressor(random_state=42), rf_param_grid, cv=5, scoring='r2', n_jobs= 1)\n",
    "rf_grid.fit(X_train, y_train)\n",
    "\n",
    "# Best model\n",
    "best_rf = rf_grid.best_estimator_\n",
    "\n",
    "# Predictions\n",
    "rf_train_pred = best_rf.predict(X_train)\n",
    "rf_test_pred = best_rf.predict(X_test)\n",
    "\n",
    "# Metrics\n",
    "rf_train_r2 = r2_score(y_train, rf_train_pred)\n",
    "rf_test_r2 = r2_score(y_test, rf_test_pred)\n",
    "rf_test_rmse = np.sqrt(mean_squared_error(y_test, rf_test_pred))\n",
    "rf_test_mae = mean_absolute_error(y_test, rf_test_pred)\n",
    "\n",
    "# Cross-validation\n",
    "rf_cv_scores = cross_val_score(best_rf, X_train, y_train, cv=5, scoring='r2')\n",
    "\n",
    "print(f\"\\nPerformance Metrics:\")\n",
    "print(f\"Training - R²: {rf_train_r2:.4f}\")\n",
    "print(f\"Test     - R²: {rf_test_r2:.4f}, RMSE: ${rf_test_rmse:,.2f}, MAE: ${rf_test_mae:,.2f}\")\n",
    "\n",
    "print(f\"\\nCross-Validation Results:\")\n",
    "print(f\"5-Fold CV R² Scores: {[f'{score:.4f}' for score in rf_cv_scores]}\")\n",
    "print(f\"Mean CV R² Score: {rf_cv_scores.mean():.4f}\")\n",
    "\n",
    "print(f\"\\nHyperparameter Tuning Results:\")\n",
    "print(f\"Best Parameters: {rf_grid.best_params_}\")\n",
    "\n",
    "# Store results\n",
    "model_results.append({\n",
    "    'ModelName': 'Random Forest Regressor',\n",
    "    'Test_R2_Score': rf_test_r2,\n",
    "    'Mean_CV_Score': rf_cv_scores.mean(),\n",
    "    'Best_Params': rf_grid.best_params_\n",
    "})\n",
    "print(\"=\"*50)"
   ]
  },
  {
   "cell_type": "code",
   "execution_count": 32,
   "id": "6a80f1a7-a1e1-49bf-a32c-c29559a891e6",
   "metadata": {},
   "outputs": [
    {
     "name": "stdout",
     "output_type": "stream",
     "text": [
      "\n",
      "==================================================\n",
      "GRADIENT BOOSTING REGRESSOR\n",
      "==================================================\n",
      "\n",
      "Performance Metrics:\n",
      "Training - R²: 0.8704\n",
      "Test     - R²: 0.9015, RMSE: $4,253.94, MAE: $2,491.92\n",
      "\n",
      "Cross-Validation Results:\n",
      "5-Fold CV R² Scores: ['0.8079', '0.8652', '0.8402', '0.8563', '0.8535']\n",
      "Mean CV R² Score: 0.8446\n",
      "\n",
      "Hyperparameter Tuning Results:\n",
      "Best Parameters: {'learning_rate': 0.1, 'max_depth': 3, 'min_samples_leaf': 4, 'min_samples_split': 2, 'n_estimators': 50}\n",
      "==================================================\n"
     ]
    }
   ],
   "source": [
    "# (5)Gradient Boosting Regressor with Hyperparameter Tuning\n",
    "print(\"\\n\" + \"=\"*50)\n",
    "print(\"GRADIENT BOOSTING REGRESSOR\")\n",
    "print(\"=\"*50)\n",
    "\n",
    "# Hyperparameter tuning for Gradient Boosting\n",
    "gb_param_grid = {\n",
    "    'n_estimators': [50, 100, 200],\n",
    "    'learning_rate': [0.01, 0.1, 0.2],\n",
    "    'max_depth': [3, 4, 5],\n",
    "    'min_samples_split': [2, 5, 10],\n",
    "    'min_samples_leaf': [1, 2, 4]\n",
    "}\n",
    "\n",
    "# Applying GridSearchCV:\n",
    "gb_grid = GridSearchCV(GradientBoostingRegressor(random_state=42), gb_param_grid, cv=5, scoring='r2', n_jobs=-1)\n",
    "gb_grid.fit(X_train, y_train)\n",
    "\n",
    "# Best model\n",
    "best_gb = gb_grid.best_estimator_\n",
    "\n",
    "# Predictions\n",
    "gb_train_pred = best_gb.predict(X_train)\n",
    "gb_test_pred = best_gb.predict(X_test)\n",
    "\n",
    "# Metrics\n",
    "gb_train_r2 = r2_score(y_train, gb_train_pred)\n",
    "gb_test_r2 = r2_score(y_test, gb_test_pred)\n",
    "gb_test_rmse = np.sqrt(mean_squared_error(y_test, gb_test_pred))\n",
    "gb_test_mae = mean_absolute_error(y_test, gb_test_pred)\n",
    "\n",
    "# Cross-validation\n",
    "gb_cv_scores = cross_val_score(best_gb, X_train, y_train, cv=5, scoring='r2')\n",
    "\n",
    "\n",
    "print(f\"\\nPerformance Metrics:\")\n",
    "print(f\"Training - R²: {gb_train_r2:.4f}\")\n",
    "print(f\"Test     - R²: {gb_test_r2:.4f}, RMSE: ${gb_test_rmse:,.2f}, MAE: ${gb_test_mae:,.2f}\")\n",
    "\n",
    "print(f\"\\nCross-Validation Results:\")\n",
    "print(f\"5-Fold CV R² Scores: {[f'{score:.4f}' for score in gb_cv_scores]}\")\n",
    "print(f\"Mean CV R² Score: {gb_cv_scores.mean():.4f}\")\n",
    "\n",
    "print(f\"\\nHyperparameter Tuning Results:\")\n",
    "print(f\"Best Parameters: {gb_grid.best_params_}\")\n",
    "\n",
    "# Store results\n",
    "model_results.append({\n",
    "    'ModelName': 'Gradient Boosting Regressor',\n",
    "    'Test_R2_Score': gb_test_r2,\n",
    "    'Mean_CV_Score': gb_cv_scores.mean(),\n",
    "    'Best_Params': gb_grid.best_params_\n",
    "})\n",
    "print(\"=\"*50)"
   ]
  },
  {
   "cell_type": "code",
   "execution_count": 33,
   "id": "4419ce30-73c7-4733-8071-4157a1f23479",
   "metadata": {},
   "outputs": [
    {
     "name": "stdout",
     "output_type": "stream",
     "text": [
      "MLP REGRESSOR (NEURAL NETWORK)\n",
      "==================================================\n",
      "\n",
      "Performance Metrics:\n",
      "Training - R²: 0.8134\n",
      "Test     - R²: 0.8661, RMSE: $4,959.80, MAE: $3,111.49\n",
      "\n",
      "Cross-Validation Results:\n",
      "5-Fold CV R² Scores: ['0.7450', '0.8030', '0.7830', '0.7534', '0.8092']\n",
      "Mean CV R² Score: 0.7787\n",
      "\n",
      "Hyperparameter Tuning Results:\n",
      "Best Parameters: {'model__activation': 'relu', 'model__alpha': 0.0001, 'model__hidden_layer_sizes': (100, 50), 'model__learning_rate': 'constant'}\n",
      "==================================================\n"
     ]
    }
   ],
   "source": [
    "# (6)MLP Regressor with Hyperparameter Tuning\n",
    "print(\"MLP REGRESSOR (NEURAL NETWORK)\")\n",
    "print(\"=\"*50)\n",
    "\n",
    "pipe_mlp = Pipeline([\n",
    "    ('scaler', StandardScaler()),\n",
    "    ('model', MLPRegressor(random_state=42, max_iter=1000))\n",
    "])\n",
    "\n",
    "\n",
    "# Hyperparameter tuning for MLP\n",
    "mlp_param_grid = {\n",
    "    'model__hidden_layer_sizes': [(50,), (100,), (50, 50), (100, 50)],\n",
    "    'model__activation': ['relu', 'tanh'],\n",
    "    'model__alpha': [0.0001, 0.001, 0.01],\n",
    "    'model__learning_rate': ['constant', 'adaptive']\n",
    "}\n",
    "\n",
    "# Grid Search\n",
    "mlp_grid = GridSearchCV(pipe_mlp, mlp_param_grid, cv=5, scoring='r2', n_jobs= 1)\n",
    "mlp_grid.fit(X_train, y_train)\n",
    "\n",
    "# Best pipeline\n",
    "best_pipe_mlp = mlp_grid.best_estimator_\n",
    "\n",
    "# Predictions\n",
    "mlp_train_pred = best_pipe_mlp.predict(X_train)\n",
    "mlp_test_pred = best_pipe_mlp.predict(X_test)\n",
    "\n",
    "# Metrics\n",
    "mlp_train_r2 = r2_score(y_train, mlp_train_pred)\n",
    "mlp_test_r2 = r2_score(y_test, mlp_test_pred)\n",
    "mlp_test_rmse = np.sqrt(mean_squared_error(y_test, mlp_test_pred))\n",
    "mlp_test_mae = mean_absolute_error(y_test, mlp_test_pred)\n",
    "\n",
    "# Cross-validation\n",
    "\n",
    "mlp_cv_scores = cross_val_score(best_pipe_mlp, X_train, y_train, cv=5, scoring='r2')\n",
    "\n",
    "\n",
    "print(f\"\\nPerformance Metrics:\")\n",
    "print(f\"Training - R²: {mlp_train_r2:.4f}\")\n",
    "print(f\"Test     - R²: {mlp_test_r2:.4f}, RMSE: ${mlp_test_rmse:,.2f}, MAE: ${mlp_test_mae:,.2f}\")\n",
    "\n",
    "print(f\"\\nCross-Validation Results:\")\n",
    "print(f\"5-Fold CV R² Scores: {[f'{score:.4f}' for score in mlp_cv_scores]}\")\n",
    "print(f\"Mean CV R² Score: {mlp_cv_scores.mean():.4f}\")\n",
    "\n",
    "print(f\"\\nHyperparameter Tuning Results:\")\n",
    "print(f\"Best Parameters: {mlp_grid.best_params_}\")\n",
    "\n",
    "# Store results\n",
    "model_results.append({\n",
    "    'ModelName': 'MLP Regressor',\n",
    "    'Test_R2_Score': mlp_test_r2,\n",
    "    'Mean_CV_Score': mlp_cv_scores.mean(),\n",
    "    'Best_Params': mlp_grid.best_params_\n",
    "})\n",
    "\n",
    "print(\"=\"*50)"
   ]
  },
  {
   "cell_type": "code",
   "execution_count": 34,
   "id": "1c456f6a-070f-426b-bca5-89a24cf5264f",
   "metadata": {},
   "outputs": [
    {
     "name": "stdout",
     "output_type": "stream",
     "text": [
      "MODEL PERFORMANCE SUMMARY REPORT\n",
      "======================================================================\n"
     ]
    },
    {
     "data": {
      "text/html": [
       "<div>\n",
       "<style scoped>\n",
       "    .dataframe tbody tr th:only-of-type {\n",
       "        vertical-align: middle;\n",
       "    }\n",
       "\n",
       "    .dataframe tbody tr th {\n",
       "        vertical-align: top;\n",
       "    }\n",
       "\n",
       "    .dataframe thead th {\n",
       "        text-align: right;\n",
       "    }\n",
       "</style>\n",
       "<table border=\"1\" class=\"dataframe\">\n",
       "  <thead>\n",
       "    <tr style=\"text-align: right;\">\n",
       "      <th></th>\n",
       "      <th>ModelName</th>\n",
       "      <th>Test_R2_Score</th>\n",
       "      <th>Mean_CV_Score</th>\n",
       "    </tr>\n",
       "  </thead>\n",
       "  <tbody>\n",
       "    <tr>\n",
       "      <th>4</th>\n",
       "      <td>Gradient Boosting Regressor</td>\n",
       "      <td>0.9015</td>\n",
       "      <td>0.8446</td>\n",
       "    </tr>\n",
       "    <tr>\n",
       "      <th>3</th>\n",
       "      <td>Random Forest Regressor</td>\n",
       "      <td>0.8495</td>\n",
       "      <td>0.8121</td>\n",
       "    </tr>\n",
       "    <tr>\n",
       "      <th>5</th>\n",
       "      <td>MLP Regressor</td>\n",
       "      <td>0.8661</td>\n",
       "      <td>0.7787</td>\n",
       "    </tr>\n",
       "    <tr>\n",
       "      <th>2</th>\n",
       "      <td>Decision Tree Regressor</td>\n",
       "      <td>0.7684</td>\n",
       "      <td>0.7677</td>\n",
       "    </tr>\n",
       "    <tr>\n",
       "      <th>0</th>\n",
       "      <td>Linear Regression</td>\n",
       "      <td>0.8069</td>\n",
       "      <td>0.7258</td>\n",
       "    </tr>\n",
       "    <tr>\n",
       "      <th>1</th>\n",
       "      <td>Support Vector Regression</td>\n",
       "      <td>0.6129</td>\n",
       "      <td>0.5900</td>\n",
       "    </tr>\n",
       "  </tbody>\n",
       "</table>\n",
       "</div>"
      ],
      "text/plain": [
       "                     ModelName  Test_R2_Score  Mean_CV_Score\n",
       "4  Gradient Boosting Regressor         0.9015         0.8446\n",
       "3      Random Forest Regressor         0.8495         0.8121\n",
       "5                MLP Regressor         0.8661         0.7787\n",
       "2      Decision Tree Regressor         0.7684         0.7677\n",
       "0            Linear Regression         0.8069         0.7258\n",
       "1    Support Vector Regression         0.6129         0.5900"
      ]
     },
     "metadata": {},
     "output_type": "display_data"
    }
   ],
   "source": [
    "# (7)Summary Report of all Modles in ascending order:\n",
    "print(\"MODEL PERFORMANCE SUMMARY REPORT\")\n",
    "print(\"=\"*70)\n",
    "\n",
    "# Create DataFrame for results\n",
    "results_df = pd.DataFrame(model_results)\n",
    "results_df = results_df.sort_values('Mean_CV_Score', ascending=False)\n",
    "\n",
    "display(results_df[['ModelName', 'Test_R2_Score', 'Mean_CV_Score']].round(4))"
   ]
  },
  {
   "cell_type": "code",
   "execution_count": 35,
   "id": "169e09cf-0cce-4f5d-8465-d8fc6e2f7f69",
   "metadata": {},
   "outputs": [
    {
     "name": "stdout",
     "output_type": "stream",
     "text": [
      "\n",
      "======================================================================\n",
      "BEST MODEL SELECTION\n",
      "======================================================================\n",
      "Best Model: Gradient Boosting Regressor\n",
      "Test R² Score: 0.9015\n",
      "Mean CV R² Score: 0.8446\n",
      "Best Parameters: {'learning_rate': 0.1, 'max_depth': 3, 'min_samples_leaf': 4, 'min_samples_split': 2, 'n_estimators': 50}\n"
     ]
    }
   ],
   "source": [
    "# Best Model Selection:\n",
    "print(\"\\n\" + \"=\"*70)\n",
    "print(\"BEST MODEL SELECTION\")\n",
    "print(\"=\"*70)\n",
    "\n",
    "best_model_info = results_df.iloc[0]\n",
    "print(f\"Best Model: {best_model_info['ModelName']}\")\n",
    "print(f\"Test R² Score: {best_model_info['Test_R2_Score']:.4f}\")\n",
    "print(f\"Mean CV R² Score: {best_model_info['Mean_CV_Score']:.4f}\")\n",
    "print(f\"Best Parameters: {best_model_info['Best_Params']}\")\n",
    "\n",
    "# Map model names to actual model objects\n",
    "model_mapping = {\n",
    "    'Linear Regression': pipe_lr,\n",
    "    'Support Vector Regression': best_pipe_svr,\n",
    "    'Decision Tree Regressor': best_dt,\n",
    "    'Random Forest Regressor': best_rf,\n",
    "    'Gradient Boosting Regressor': best_gb,\n",
    "    'MLP Regressor': best_pipe_mlp\n",
    "}\n",
    "\n",
    "# Get the best model object\n",
    "best_model_name = best_model_info['ModelName']\n",
    "final_best_model = model_mapping[best_model_name]"
   ]
  },
  {
   "cell_type": "code",
   "execution_count": 36,
   "id": "bbdcdc42-3be1-4491-8724-6513005a11ed",
   "metadata": {},
   "outputs": [
    {
     "name": "stdout",
     "output_type": "stream",
     "text": [
      "20 Randomly Selected Predictions:\n",
      "==================================================\n",
      " 1. Actual: $1,632.04, Predicted: $3,536.56, Diff: $1,904.53\n",
      " 2. Actual: $5,979.73, Predicted: $6,561.48, Diff: $581.75\n",
      " 3. Actual: $3,925.76, Predicted: $6,150.13, Diff: $2,224.37\n",
      " 4. Actual: $5,245.23, Predicted: $6,455.09, Diff: $1,209.87\n",
      " 5. Actual: $11,085.59, Predicted: $12,157.15, Diff: $1,071.56\n",
      " 6. Actual: $4,564.19, Predicted: $7,134.67, Diff: $2,570.48\n",
      " 7. Actual: $1,728.90, Predicted: $3,652.48, Diff: $1,923.58\n",
      " 8. Actual: $8,835.26, Predicted: $10,712.63, Diff: $1,877.36\n",
      " 9. Actual: $20,781.49, Predicted: $12,281.17, Diff: $8,500.31\n",
      "10. Actual: $41,949.24, Predicted: $42,855.42, Diff: $906.17\n",
      "11. Actual: $13,887.20, Predicted: $14,310.85, Diff: $423.65\n",
      "12. Actual: $6,948.70, Predicted: $9,620.11, Diff: $2,671.41\n",
      "13. Actual: $12,981.35, Predicted: $14,031.78, Diff: $1,050.44\n",
      "14. Actual: $7,201.70, Predicted: $8,348.63, Diff: $1,146.93\n",
      "15. Actual: $2,855.44, Predicted: $4,766.14, Diff: $1,910.70\n",
      "16. Actual: $2,203.47, Predicted: $3,894.63, Diff: $1,691.16\n",
      "17. Actual: $4,746.34, Predicted: $5,807.26, Diff: $1,060.91\n",
      "18. Actual: $1,131.51, Predicted: $3,145.09, Diff: $2,013.59\n",
      "19. Actual: $13,204.29, Predicted: $14,558.99, Diff: $1,354.71\n",
      "20. Actual: $2,597.78, Predicted: $4,333.98, Diff: $1,736.21\n",
      "==================================================\n"
     ]
    }
   ],
   "source": [
    "# Testing the best model with 20 samples from X_test data:\n",
    "import numpy as np\n",
    "import pandas as pd\n",
    "\n",
    "# Generate predictions using your best model\n",
    "final_test_pred = final_best_model.predict(X_test)  # Use final_best_model\n",
    "\n",
    "# Show 20 randomly selected comparisons\n",
    "print(\"20 Randomly Selected Predictions:\")\n",
    "print(\"=\"*50)\n",
    "\n",
    "# Get 20 random indices\n",
    "random_indices = np.random.choice(len(y_test), 20, replace=False)\n",
    "\n",
    "for i, idx in enumerate(random_indices, 1):\n",
    "    actual = y_test.iloc[idx]\n",
    "    predicted = final_test_pred[idx]\n",
    "    difference = abs(actual - predicted)\n",
    "    print(f\"{i:2d}. Actual: ${actual:8,.2f}, Predicted: ${predicted:8,.2f}, Diff: ${difference:6,.2f}\")\n",
    "\n",
    "print(\"=\"*50)"
   ]
  },
  {
   "cell_type": "markdown",
   "id": "602730ab-978e-420d-8fee-88f0ad4a2bd6",
   "metadata": {},
   "source": [
    "* Objective is achieved through building a succesful model to predict charges.\n",
    "* Gradient Boosting Regressor has been selected as best model with Test R² Score: 0.9015 and Mean CV R² Score: 0.8446.\n",
    "* A comparison of actual charges and predicted charges with difference between them are shown.\n",
    "* There is scope of improving the scores with further tuning.\n",
    "* And predictions can be improved with more data from client as this dataset is small.\n",
    "* Some of the differences (actual - predicted) which are large should be analyzed further so that predictions are more accurate with good reasoning. \n"
   ]
  },
  {
   "cell_type": "code",
   "execution_count": null,
   "id": "9b3cfb19-7a68-4c4a-a83b-791a6f6925e1",
   "metadata": {},
   "outputs": [],
   "source": []
  },
  {
   "cell_type": "code",
   "execution_count": null,
   "id": "4ea9884e-70e4-40e5-bbc1-c375295e8c99",
   "metadata": {},
   "outputs": [],
   "source": [
    "----End of Notebook-------"
   ]
  },
  {
   "cell_type": "code",
   "execution_count": null,
   "id": "2bc1c94b-a857-4062-89a6-bfd8b43c0068",
   "metadata": {},
   "outputs": [],
   "source": []
  },
  {
   "cell_type": "code",
   "execution_count": null,
   "id": "91080dc0-9a1d-4c85-a5ba-0ebfe790347d",
   "metadata": {},
   "outputs": [],
   "source": []
  },
  {
   "cell_type": "code",
   "execution_count": null,
   "id": "f123c866-714a-4524-8f93-94e63fb8f3aa",
   "metadata": {},
   "outputs": [],
   "source": []
  }
 ],
 "metadata": {
  "kernelspec": {
   "display_name": "Python 3 (ipykernel)",
   "language": "python",
   "name": "python3"
  },
  "language_info": {
   "codemirror_mode": {
    "name": "ipython",
    "version": 3
   },
   "file_extension": ".py",
   "mimetype": "text/x-python",
   "name": "python",
   "nbconvert_exporter": "python",
   "pygments_lexer": "ipython3",
   "version": "3.12.3"
  }
 },
 "nbformat": 4,
 "nbformat_minor": 5
}
